{
 "cells": [
  {
   "cell_type": "markdown",
   "metadata": {},
   "source": [
    "# Résumé"
   ]
  },
  {
   "cell_type": "markdown",
   "metadata": {},
   "source": [
    "L'objectif de ce notebook est de faire du \"Document Classification\", c'est une sous partie du NLP. Pour cela, nous prenons les données qui sont [ici](https://api.github.com/repos/Microsoft/vscode/issues). Les données peuvent être récupérées soit via l'API [PyGithub](https://github.com/PyGithub/PyGithub), soit directement avec la commande curl. Nous devrons ensuite classer les différentes \"issues\" sous les différents labels (bug, feature-request et other). On rajoute la classe \"other\" afin d'être sûr que les deux autres concepts sont correctements appris. Pour finir, nous fournirons une méthode qui prendra en paramètre, un titre et un corp de texte et qui labellisera cette nouvelles entrée."
   ]
  },
  {
   "cell_type": "markdown",
   "metadata": {},
   "source": [
    "Plan\n",
    "========\n",
    "1. Construction du dataset\n",
    "2. Séparation des datasets\n",
    "3. Feature-Extraction\n",
    "4. Entraînement\n",
    "5. Validation\n",
    "6. Utilisation du classifier"
   ]
  },
  {
   "cell_type": "code",
   "execution_count": 59,
   "metadata": {},
   "outputs": [],
   "source": [
    "import pandas as pd #Gestion des dataframes\n",
    "import nltk # Traitement du langage naturel\n",
    "import numpy as np"
   ]
  },
  {
   "cell_type": "code",
   "execution_count": 2,
   "metadata": {},
   "outputs": [],
   "source": [
    "#Constants utilisées par la suite\n",
    "LABEL_FQ = 'feature-request'\n",
    "LABEL_BUG = 'bug'\n",
    "LABEL_OTHER = 'other'\n",
    "LABELS = [LABEL_BUG, LABEL_FQ, LABEL_OTHER]"
   ]
  },
  {
   "cell_type": "markdown",
   "metadata": {},
   "source": [
    "# Construction du dataset"
   ]
  },
  {
   "cell_type": "markdown",
   "metadata": {},
   "source": [
    "Pour cet exercice, on ne prendra que le titre, le corp et l'ID de l'issue. On va faire 3 classes différentes, 'bug', 'feature-request', 'other'. On considère que chaque input n'a qu'un seul label."
   ]
  },
  {
   "cell_type": "code",
   "execution_count": 3,
   "metadata": {},
   "outputs": [],
   "source": [
    "#Fonction qui permet de redéfinir les autres labels que bug et feature-request à other\n",
    "def filter_label(labels):\n",
    "    \n",
    "    if LABEL_FQ  in labels:\n",
    "        return LABEL_FQ\n",
    "    elif LABEL_BUG in labels:\n",
    "        return LABEL_BUG\n",
    "    \n",
    "    return LABEL_OTHER"
   ]
  },
  {
   "cell_type": "code",
   "execution_count": 4,
   "metadata": {
    "scrolled": true
   },
   "outputs": [
    {
     "data": {
      "text/html": [
       "<div>\n",
       "<style scoped>\n",
       "    .dataframe tbody tr th:only-of-type {\n",
       "        vertical-align: middle;\n",
       "    }\n",
       "\n",
       "    .dataframe tbody tr th {\n",
       "        vertical-align: top;\n",
       "    }\n",
       "\n",
       "    .dataframe thead th {\n",
       "        text-align: right;\n",
       "    }\n",
       "</style>\n",
       "<table border=\"1\" class=\"dataframe\">\n",
       "  <thead>\n",
       "    <tr style=\"text-align: right;\">\n",
       "      <th></th>\n",
       "      <th>title</th>\n",
       "      <th>body</th>\n",
       "      <th>labels</th>\n",
       "    </tr>\n",
       "  </thead>\n",
       "  <tbody>\n",
       "    <tr>\n",
       "      <th>0</th>\n",
       "      <td>Panel badge is an odd shape when a single digit</td>\n",
       "      <td>Need to update the css so that this badge beco...</td>\n",
       "      <td>[]</td>\n",
       "    </tr>\n",
       "    <tr>\n",
       "      <th>1</th>\n",
       "      <td>custom titlebar : fullscreen very top dragging...</td>\n",
       "      <td>- VSCode Version: Insiders 1.26\\r\\n- OS Versio...</td>\n",
       "      <td>[]</td>\n",
       "    </tr>\n",
       "    <tr>\n",
       "      <th>2</th>\n",
       "      <td>Localized descriptions for built-in extensions...</td>\n",
       "      <td>Fixes #54111</td>\n",
       "      <td>[]</td>\n",
       "    </tr>\n",
       "    <tr>\n",
       "      <th>3</th>\n",
       "      <td>editor automatically removing characters from ...</td>\n",
       "      <td>Issue Type: &lt;b&gt;Bug&lt;/b&gt;\\r\\n\\r\\nthe editor is re...</td>\n",
       "      <td>[]</td>\n",
       "    </tr>\n",
       "    <tr>\n",
       "      <th>4</th>\n",
       "      <td>[js] Add auto completion for computed property...</td>\n",
       "      <td>Currently intellisense doesn't work for comput...</td>\n",
       "      <td>[{'id': 291124272, 'node_id': 'MDU6TGFiZWwyOTE...</td>\n",
       "    </tr>\n",
       "  </tbody>\n",
       "</table>\n",
       "</div>"
      ],
      "text/plain": [
       "                                               title  \\\n",
       "0    Panel badge is an odd shape when a single digit   \n",
       "1  custom titlebar : fullscreen very top dragging...   \n",
       "2  Localized descriptions for built-in extensions...   \n",
       "3  editor automatically removing characters from ...   \n",
       "4  [js] Add auto completion for computed property...   \n",
       "\n",
       "                                                body  \\\n",
       "0  Need to update the css so that this badge beco...   \n",
       "1  - VSCode Version: Insiders 1.26\\r\\n- OS Versio...   \n",
       "2                                       Fixes #54111   \n",
       "3  Issue Type: <b>Bug</b>\\r\\n\\r\\nthe editor is re...   \n",
       "4  Currently intellisense doesn't work for comput...   \n",
       "\n",
       "                                              labels  \n",
       "0                                                 []  \n",
       "1                                                 []  \n",
       "2                                                 []  \n",
       "3                                                 []  \n",
       "4  [{'id': 291124272, 'node_id': 'MDU6TGFiZWwyOTE...  "
      ]
     },
     "execution_count": 4,
     "metadata": {},
     "output_type": "execute_result"
    }
   ],
   "source": [
    "issues = pd.read_csv('./issues.csv') #importation des données téléchargées au préalable\n",
    "issues = issues.loc[:,['title','body','labels']] #On conserve seulement titre, body et labels\n",
    "issues.head()"
   ]
  },
  {
   "cell_type": "code",
   "execution_count": 5,
   "metadata": {
    "scrolled": true
   },
   "outputs": [],
   "source": [
    "#Transformation des labels. On ne garde qu'un seul label (bug, feature-request et other)\n",
    "for ind in issues.index:\n",
    "    row = issues.loc[ind]\n",
    "    labels = eval(row['labels'])\n",
    "    tmp = []\n",
    "\n",
    "    if len(labels) > 0: # S'il y a au moins un label, 3 possibilitées d'affectation\n",
    "        for l in labels:\n",
    "            tmp.append(l['name'])\n",
    "\n",
    "        new_label = filter_label(tmp)\n",
    "        issues.loc[ind, 'labels'] = new_label\n",
    "    else:\n",
    "        issues.loc[ind, 'labels'] = LABEL_OTHER #Sinon c'est other"
   ]
  },
  {
   "cell_type": "code",
   "execution_count": 6,
   "metadata": {
    "scrolled": true
   },
   "outputs": [
    {
     "data": {
      "text/html": [
       "<div>\n",
       "<style scoped>\n",
       "    .dataframe tbody tr th:only-of-type {\n",
       "        vertical-align: middle;\n",
       "    }\n",
       "\n",
       "    .dataframe tbody tr th {\n",
       "        vertical-align: top;\n",
       "    }\n",
       "\n",
       "    .dataframe thead th {\n",
       "        text-align: right;\n",
       "    }\n",
       "</style>\n",
       "<table border=\"1\" class=\"dataframe\">\n",
       "  <thead>\n",
       "    <tr style=\"text-align: right;\">\n",
       "      <th></th>\n",
       "      <th>title</th>\n",
       "      <th>body</th>\n",
       "      <th>labels</th>\n",
       "    </tr>\n",
       "  </thead>\n",
       "  <tbody>\n",
       "    <tr>\n",
       "      <th>0</th>\n",
       "      <td>Panel badge is an odd shape when a single digit</td>\n",
       "      <td>Need to update the css so that this badge beco...</td>\n",
       "      <td>other</td>\n",
       "    </tr>\n",
       "    <tr>\n",
       "      <th>1</th>\n",
       "      <td>custom titlebar : fullscreen very top dragging...</td>\n",
       "      <td>- VSCode Version: Insiders 1.26\\r\\n- OS Versio...</td>\n",
       "      <td>other</td>\n",
       "    </tr>\n",
       "    <tr>\n",
       "      <th>2</th>\n",
       "      <td>Localized descriptions for built-in extensions...</td>\n",
       "      <td>Fixes #54111</td>\n",
       "      <td>other</td>\n",
       "    </tr>\n",
       "    <tr>\n",
       "      <th>3</th>\n",
       "      <td>editor automatically removing characters from ...</td>\n",
       "      <td>Issue Type: &lt;b&gt;Bug&lt;/b&gt;\\r\\n\\r\\nthe editor is re...</td>\n",
       "      <td>other</td>\n",
       "    </tr>\n",
       "    <tr>\n",
       "      <th>4</th>\n",
       "      <td>[js] Add auto completion for computed property...</td>\n",
       "      <td>Currently intellisense doesn't work for comput...</td>\n",
       "      <td>other</td>\n",
       "    </tr>\n",
       "    <tr>\n",
       "      <th>5</th>\n",
       "      <td>Electron 2.0.5</td>\n",
       "      <td>This reverts https://github.com/Microsoft/vsco...</td>\n",
       "      <td>other</td>\n",
       "    </tr>\n",
       "    <tr>\n",
       "      <th>6</th>\n",
       "      <td>Mac OS X \"Invalid key shortcut terminal\" on ⌃`</td>\n",
       "      <td>I want to open a terminal tab using the shortc...</td>\n",
       "      <td>other</td>\n",
       "    </tr>\n",
       "    <tr>\n",
       "      <th>7</th>\n",
       "      <td>ES &amp; TS autoimport features enhance</td>\n",
       "      <td>No useful ways to import es &amp; ts modules witho...</td>\n",
       "      <td>other</td>\n",
       "    </tr>\n",
       "    <tr>\n",
       "      <th>8</th>\n",
       "      <td>Folder with Chinese path cannot import into wo...</td>\n",
       "      <td>Issue Type: &lt;b&gt;Bug&lt;/b&gt;\\r\\n\\r\\nPath include Chi...</td>\n",
       "      <td>other</td>\n",
       "    </tr>\n",
       "    <tr>\n",
       "      <th>9</th>\n",
       "      <td>Cannot uninstall VS Code on Windows Server 201...</td>\n",
       "      <td>Interesting use case here while using Visual S...</td>\n",
       "      <td>other</td>\n",
       "    </tr>\n",
       "    <tr>\n",
       "      <th>10</th>\n",
       "      <td>definition javascript Object prompt error: [ts...</td>\n",
       "      <td>![2018-07-23_214556](https://user-images.githu...</td>\n",
       "      <td>other</td>\n",
       "    </tr>\n",
       "    <tr>\n",
       "      <th>11</th>\n",
       "      <td>Preserve the revealed area after using \"Open F...</td>\n",
       "      <td>Ref: #53465.</td>\n",
       "      <td>other</td>\n",
       "    </tr>\n",
       "    <tr>\n",
       "      <th>12</th>\n",
       "      <td>Test: debug process termination signal</td>\n",
       "      <td>Refs: #54384\\r\\n\\r\\n- [ ] os x\\r\\n- [ ] linux\\...</td>\n",
       "      <td>other</td>\n",
       "    </tr>\n",
       "    <tr>\n",
       "      <th>13</th>\n",
       "      <td>Test disabling individual extensions</td>\n",
       "      <td>Refs: #54721\\r\\n\\r\\n- [ ] anyOS\\r\\n- [ ] anyOS...</td>\n",
       "      <td>other</td>\n",
       "    </tr>\n",
       "    <tr>\n",
       "      <th>14</th>\n",
       "      <td>Test launching workspaces, folders and files</td>\n",
       "      <td>Refs: #54483\\r\\n\\r\\n- [ ] windows\\r\\n- [ ] mac...</td>\n",
       "      <td>other</td>\n",
       "    </tr>\n",
       "    <tr>\n",
       "      <th>15</th>\n",
       "      <td>Test opening folder URIs</td>\n",
       "      <td>Refs: #54483\\r\\n\\r\\n- [ ] windows\\r\\n- [ ] mac...</td>\n",
       "      <td>other</td>\n",
       "    </tr>\n",
       "    <tr>\n",
       "      <th>16</th>\n",
       "      <td>Test Extension packs</td>\n",
       "      <td>Refs: #48430\\r\\n\\r\\n- [ ] anyOS\\r\\n- [ ] anyOS...</td>\n",
       "      <td>other</td>\n",
       "    </tr>\n",
       "    <tr>\n",
       "      <th>17</th>\n",
       "      <td>Test quick fixes in Problems view</td>\n",
       "      <td>Refs: #52627\\r\\n\\r\\n- [ ] anyOS\\r\\n- [ ] anyOS...</td>\n",
       "      <td>other</td>\n",
       "    </tr>\n",
       "    <tr>\n",
       "      <th>18</th>\n",
       "      <td>Import suggestion suggesting import from @type...</td>\n",
       "      <td>&lt;!-- Please search existing issues to avoid cr...</td>\n",
       "      <td>other</td>\n",
       "    </tr>\n",
       "    <tr>\n",
       "      <th>19</th>\n",
       "      <td>Navigation trought parenthesis</td>\n",
       "      <td>Issue Type: &lt;b&gt;Bug&lt;/b&gt;\\r\\n\\r\\nHi, \\r\\n\\r\\nWhen...</td>\n",
       "      <td>other</td>\n",
       "    </tr>\n",
       "    <tr>\n",
       "      <th>20</th>\n",
       "      <td>Support underscore in html attribute names</td>\n",
       "      <td>NaN</td>\n",
       "      <td>other</td>\n",
       "    </tr>\n",
       "    <tr>\n",
       "      <th>21</th>\n",
       "      <td>DocumentSymbol.selectionRange doesn't seem to ...</td>\n",
       "      <td>- VSCode Version: 1.25.1\\r\\n- OS Version: Wind...</td>\n",
       "      <td>other</td>\n",
       "    </tr>\n",
       "    <tr>\n",
       "      <th>22</th>\n",
       "      <td>Object.entries not recognised after a while in...</td>\n",
       "      <td>I would say it is pretty common, as it happene...</td>\n",
       "      <td>other</td>\n",
       "    </tr>\n",
       "    <tr>\n",
       "      <th>23</th>\n",
       "      <td>Breadcrumbs not showing namespace</td>\n",
       "      <td>Issue Type: &lt;b&gt;Bug&lt;/b&gt;\\r\\n\\r\\nThe cursor is in...</td>\n",
       "      <td>other</td>\n",
       "    </tr>\n",
       "    <tr>\n",
       "      <th>24</th>\n",
       "      <td>Watch pane does not use evaluateName when exec...</td>\n",
       "      <td>I've had a bug raised where values copied (usi...</td>\n",
       "      <td>other</td>\n",
       "    </tr>\n",
       "    <tr>\n",
       "      <th>25</th>\n",
       "      <td>Build broken</td>\n",
       "      <td>Electron update broke the build, this commit h...</td>\n",
       "      <td>other</td>\n",
       "    </tr>\n",
       "    <tr>\n",
       "      <th>26</th>\n",
       "      <td>Adds webview select-all command</td>\n",
       "      <td>This change adds a select-all command for webv...</td>\n",
       "      <td>other</td>\n",
       "    </tr>\n",
       "    <tr>\n",
       "      <th>27</th>\n",
       "      <td>OutlineView to InheritationView javascript: Sh...</td>\n",
       "      <td>I'm working with classes in Javascript, precis...</td>\n",
       "      <td>other</td>\n",
       "    </tr>\n",
       "    <tr>\n",
       "      <th>28</th>\n",
       "      <td>'node' is not recognized as an internal or ext...</td>\n",
       "      <td>version: 1.25\\r\\n\\r\\ni was just trying to run ...</td>\n",
       "      <td>other</td>\n",
       "    </tr>\n",
       "    <tr>\n",
       "      <th>29</th>\n",
       "      <td>Git confirm box looks strange.</td>\n",
       "      <td>&lt;!-- Please search existing issues to avoid cr...</td>\n",
       "      <td>other</td>\n",
       "    </tr>\n",
       "    <tr>\n",
       "      <th>...</th>\n",
       "      <td>...</td>\n",
       "      <td>...</td>\n",
       "      <td>...</td>\n",
       "    </tr>\n",
       "    <tr>\n",
       "      <th>5351</th>\n",
       "      <td>Revisit content of build\\lib\\i18n.resources.json</td>\n",
       "      <td>This file list fine granular parts folders how...</td>\n",
       "      <td>other</td>\n",
       "    </tr>\n",
       "    <tr>\n",
       "      <th>5352</th>\n",
       "      <td>Customisable welcome page (feature request)</td>\n",
       "      <td>It would be great if we could customise the we...</td>\n",
       "      <td>feature-request</td>\n",
       "    </tr>\n",
       "    <tr>\n",
       "      <th>5353</th>\n",
       "      <td>Search: careful with path.basename()</td>\n",
       "      <td>Careful when using `path.basename`, it can ret...</td>\n",
       "      <td>other</td>\n",
       "    </tr>\n",
       "    <tr>\n",
       "      <th>5354</th>\n",
       "      <td>Viewlets in the panel area and vice versa</td>\n",
       "      <td>Since both viewlets and panels are composites ...</td>\n",
       "      <td>feature-request</td>\n",
       "    </tr>\n",
       "    <tr>\n",
       "      <th>5355</th>\n",
       "      <td>Black Screen was displayed after sometime inac...</td>\n",
       "      <td>&lt;!-- Do you have a question? Please ask it on ...</td>\n",
       "      <td>other</td>\n",
       "    </tr>\n",
       "    <tr>\n",
       "      <th>5356</th>\n",
       "      <td>Not everything is in English after changing di...</td>\n",
       "      <td>&lt;!-- Do you have a question? Please ask it on ...</td>\n",
       "      <td>other</td>\n",
       "    </tr>\n",
       "    <tr>\n",
       "      <th>5357</th>\n",
       "      <td>Zoom reset not possible</td>\n",
       "      <td>- VSCode Version: 1.18.1 (1.18.1)\\r\\n- OS Vers...</td>\n",
       "      <td>bug</td>\n",
       "    </tr>\n",
       "    <tr>\n",
       "      <th>5358</th>\n",
       "      <td>Linux: dragging something shows white backgrou...</td>\n",
       "      <td>Looks like on Linux when you start to drag (e....</td>\n",
       "      <td>bug</td>\n",
       "    </tr>\n",
       "    <tr>\n",
       "      <th>5359</th>\n",
       "      <td>Add a \"Save Without Formatting\" command</td>\n",
       "      <td>Would be really nice to add a command that all...</td>\n",
       "      <td>feature-request</td>\n",
       "    </tr>\n",
       "    <tr>\n",
       "      <th>5360</th>\n",
       "      <td>Windows Subsystem for Linux integrated termina...</td>\n",
       "      <td>You see this:\\r\\n\\r\\n![inkedscreenshot 2017-11...</td>\n",
       "      <td>feature-request</td>\n",
       "    </tr>\n",
       "    <tr>\n",
       "      <th>5361</th>\n",
       "      <td>Option for linux style ${workspaceFolder} Vari...</td>\n",
       "      <td>Using VSCode on Windows 10, the Variable Subst...</td>\n",
       "      <td>feature-request</td>\n",
       "    </tr>\n",
       "    <tr>\n",
       "      <th>5362</th>\n",
       "      <td>Tooltip/Information hovers too small and canno...</td>\n",
       "      <td>```\\r\\n$ code --version\\r\\n1.18.0\\r\\ndcee22027...</td>\n",
       "      <td>bug</td>\n",
       "    </tr>\n",
       "    <tr>\n",
       "      <th>5363</th>\n",
       "      <td>One slow resolving code lens blocks rendering ...</td>\n",
       "      <td>**Bug**\\r\\nA slow to resolve code lens can blo...</td>\n",
       "      <td>other</td>\n",
       "    </tr>\n",
       "    <tr>\n",
       "      <th>5364</th>\n",
       "      <td>Can't use \"Configure Default Build/Test Task\" ...</td>\n",
       "      <td>&lt;!-- Do you have a question? Please ask it on ...</td>\n",
       "      <td>feature-request</td>\n",
       "    </tr>\n",
       "    <tr>\n",
       "      <th>5365</th>\n",
       "      <td>activationEvents.workspaceContains:{value from...</td>\n",
       "      <td>Say i have this contributions in my extension:...</td>\n",
       "      <td>feature-request</td>\n",
       "    </tr>\n",
       "    <tr>\n",
       "      <th>5366</th>\n",
       "      <td>Allow to place new StatusBarItems between defa...</td>\n",
       "      <td>I was playing with the `priority` value of a [...</td>\n",
       "      <td>feature-request</td>\n",
       "    </tr>\n",
       "    <tr>\n",
       "      <th>5367</th>\n",
       "      <td>CLI: code --install-extension should show relo...</td>\n",
       "      <td>&lt;!-- Do you have a question? Please ask it on ...</td>\n",
       "      <td>bug</td>\n",
       "    </tr>\n",
       "    <tr>\n",
       "      <th>5368</th>\n",
       "      <td>Add feature to describe keybinding by pressing...</td>\n",
       "      <td>&lt;!-- Do you have a question? Please ask it on ...</td>\n",
       "      <td>feature-request</td>\n",
       "    </tr>\n",
       "    <tr>\n",
       "      <th>5369</th>\n",
       "      <td>Tab sizes should be a fixed size</td>\n",
       "      <td>- VSCode Version: 1.18\\r\\n- OS Version: Fedora...</td>\n",
       "      <td>feature-request</td>\n",
       "    </tr>\n",
       "    <tr>\n",
       "      <th>5370</th>\n",
       "      <td>Text is truncated when launching external term...</td>\n",
       "      <td>- VSCode Version: Version 1.18.1 (1.18.1)\\r\\n-...</td>\n",
       "      <td>bug</td>\n",
       "    </tr>\n",
       "    <tr>\n",
       "      <th>5371</th>\n",
       "      <td>API Request: Provide current size of viewport</td>\n",
       "      <td>A long time ago, when the VSCodeVim extension ...</td>\n",
       "      <td>feature-request</td>\n",
       "    </tr>\n",
       "    <tr>\n",
       "      <th>5372</th>\n",
       "      <td>VSCode moves down by 1 title bar height on eve...</td>\n",
       "      <td>- VSCode Version: Code 1.18.1 (929bacba01ef658...</td>\n",
       "      <td>other</td>\n",
       "    </tr>\n",
       "    <tr>\n",
       "      <th>5373</th>\n",
       "      <td>disable hover</td>\n",
       "      <td>![image](https://user-images.githubusercontent...</td>\n",
       "      <td>feature-request</td>\n",
       "    </tr>\n",
       "    <tr>\n",
       "      <th>5374</th>\n",
       "      <td>Support an extension point for customizing gut...</td>\n",
       "      <td>&lt;!-- Do you have a question? Please ask it on ...</td>\n",
       "      <td>feature-request</td>\n",
       "    </tr>\n",
       "    <tr>\n",
       "      <th>5375</th>\n",
       "      <td>\"Replace all\" in search viewlet shows empty di...</td>\n",
       "      <td>- Do a search/replace\\r\\n- Open the diff previ...</td>\n",
       "      <td>bug</td>\n",
       "    </tr>\n",
       "    <tr>\n",
       "      <th>5376</th>\n",
       "      <td>Live Share support in other languages</td>\n",
       "      <td>We are already getting questions about when ou...</td>\n",
       "      <td>feature-request</td>\n",
       "    </tr>\n",
       "    <tr>\n",
       "      <th>5377</th>\n",
       "      <td>Extend 'findFiles' to allow multiple patterns</td>\n",
       "      <td>Extended glob patterns are unlikely to be supp...</td>\n",
       "      <td>other</td>\n",
       "    </tr>\n",
       "    <tr>\n",
       "      <th>5378</th>\n",
       "      <td>undoStopBefore:false in TextEditor.edit stoppe...</td>\n",
       "      <td>&lt;!-- Do you have a question? Please ask it on ...</td>\n",
       "      <td>bug</td>\n",
       "    </tr>\n",
       "    <tr>\n",
       "      <th>5379</th>\n",
       "      <td>Switching between VSCode windows with any cust...</td>\n",
       "      <td>- VSCode Version:\\r\\n1.18.0\\r\\n- OS Version:\\r...</td>\n",
       "      <td>other</td>\n",
       "    </tr>\n",
       "    <tr>\n",
       "      <th>5380</th>\n",
       "      <td>Expand selection doesn't work as expected</td>\n",
       "      <td>When you want to expand selection after last p...</td>\n",
       "      <td>other</td>\n",
       "    </tr>\n",
       "  </tbody>\n",
       "</table>\n",
       "<p>5381 rows × 3 columns</p>\n",
       "</div>"
      ],
      "text/plain": [
       "                                                  title  \\\n",
       "0       Panel badge is an odd shape when a single digit   \n",
       "1     custom titlebar : fullscreen very top dragging...   \n",
       "2     Localized descriptions for built-in extensions...   \n",
       "3     editor automatically removing characters from ...   \n",
       "4     [js] Add auto completion for computed property...   \n",
       "5                                        Electron 2.0.5   \n",
       "6        Mac OS X \"Invalid key shortcut terminal\" on ⌃`   \n",
       "7                   ES & TS autoimport features enhance   \n",
       "8     Folder with Chinese path cannot import into wo...   \n",
       "9     Cannot uninstall VS Code on Windows Server 201...   \n",
       "10    definition javascript Object prompt error: [ts...   \n",
       "11    Preserve the revealed area after using \"Open F...   \n",
       "12               Test: debug process termination signal   \n",
       "13                 Test disabling individual extensions   \n",
       "14         Test launching workspaces, folders and files   \n",
       "15                             Test opening folder URIs   \n",
       "16                                 Test Extension packs   \n",
       "17                    Test quick fixes in Problems view   \n",
       "18    Import suggestion suggesting import from @type...   \n",
       "19                       Navigation trought parenthesis   \n",
       "20           Support underscore in html attribute names   \n",
       "21    DocumentSymbol.selectionRange doesn't seem to ...   \n",
       "22    Object.entries not recognised after a while in...   \n",
       "23                    Breadcrumbs not showing namespace   \n",
       "24    Watch pane does not use evaluateName when exec...   \n",
       "25                                         Build broken   \n",
       "26                      Adds webview select-all command   \n",
       "27    OutlineView to InheritationView javascript: Sh...   \n",
       "28    'node' is not recognized as an internal or ext...   \n",
       "29                       Git confirm box looks strange.   \n",
       "...                                                 ...   \n",
       "5351   Revisit content of build\\lib\\i18n.resources.json   \n",
       "5352        Customisable welcome page (feature request)   \n",
       "5353               Search: careful with path.basename()   \n",
       "5354          Viewlets in the panel area and vice versa   \n",
       "5355  Black Screen was displayed after sometime inac...   \n",
       "5356  Not everything is in English after changing di...   \n",
       "5357                            Zoom reset not possible   \n",
       "5358  Linux: dragging something shows white backgrou...   \n",
       "5359            Add a \"Save Without Formatting\" command   \n",
       "5360  Windows Subsystem for Linux integrated termina...   \n",
       "5361  Option for linux style ${workspaceFolder} Vari...   \n",
       "5362  Tooltip/Information hovers too small and canno...   \n",
       "5363  One slow resolving code lens blocks rendering ...   \n",
       "5364  Can't use \"Configure Default Build/Test Task\" ...   \n",
       "5365  activationEvents.workspaceContains:{value from...   \n",
       "5366  Allow to place new StatusBarItems between defa...   \n",
       "5367  CLI: code --install-extension should show relo...   \n",
       "5368  Add feature to describe keybinding by pressing...   \n",
       "5369                   Tab sizes should be a fixed size   \n",
       "5370  Text is truncated when launching external term...   \n",
       "5371      API Request: Provide current size of viewport   \n",
       "5372  VSCode moves down by 1 title bar height on eve...   \n",
       "5373                                      disable hover   \n",
       "5374  Support an extension point for customizing gut...   \n",
       "5375  \"Replace all\" in search viewlet shows empty di...   \n",
       "5376              Live Share support in other languages   \n",
       "5377      Extend 'findFiles' to allow multiple patterns   \n",
       "5378  undoStopBefore:false in TextEditor.edit stoppe...   \n",
       "5379  Switching between VSCode windows with any cust...   \n",
       "5380          Expand selection doesn't work as expected   \n",
       "\n",
       "                                                   body           labels  \n",
       "0     Need to update the css so that this badge beco...            other  \n",
       "1     - VSCode Version: Insiders 1.26\\r\\n- OS Versio...            other  \n",
       "2                                          Fixes #54111            other  \n",
       "3     Issue Type: <b>Bug</b>\\r\\n\\r\\nthe editor is re...            other  \n",
       "4     Currently intellisense doesn't work for comput...            other  \n",
       "5     This reverts https://github.com/Microsoft/vsco...            other  \n",
       "6     I want to open a terminal tab using the shortc...            other  \n",
       "7     No useful ways to import es & ts modules witho...            other  \n",
       "8     Issue Type: <b>Bug</b>\\r\\n\\r\\nPath include Chi...            other  \n",
       "9     Interesting use case here while using Visual S...            other  \n",
       "10    ![2018-07-23_214556](https://user-images.githu...            other  \n",
       "11                                        Ref: #53465.             other  \n",
       "12    Refs: #54384\\r\\n\\r\\n- [ ] os x\\r\\n- [ ] linux\\...            other  \n",
       "13    Refs: #54721\\r\\n\\r\\n- [ ] anyOS\\r\\n- [ ] anyOS...            other  \n",
       "14    Refs: #54483\\r\\n\\r\\n- [ ] windows\\r\\n- [ ] mac...            other  \n",
       "15    Refs: #54483\\r\\n\\r\\n- [ ] windows\\r\\n- [ ] mac...            other  \n",
       "16    Refs: #48430\\r\\n\\r\\n- [ ] anyOS\\r\\n- [ ] anyOS...            other  \n",
       "17    Refs: #52627\\r\\n\\r\\n- [ ] anyOS\\r\\n- [ ] anyOS...            other  \n",
       "18    <!-- Please search existing issues to avoid cr...            other  \n",
       "19    Issue Type: <b>Bug</b>\\r\\n\\r\\nHi, \\r\\n\\r\\nWhen...            other  \n",
       "20                                                  NaN            other  \n",
       "21    - VSCode Version: 1.25.1\\r\\n- OS Version: Wind...            other  \n",
       "22    I would say it is pretty common, as it happene...            other  \n",
       "23    Issue Type: <b>Bug</b>\\r\\n\\r\\nThe cursor is in...            other  \n",
       "24    I've had a bug raised where values copied (usi...            other  \n",
       "25    Electron update broke the build, this commit h...            other  \n",
       "26    This change adds a select-all command for webv...            other  \n",
       "27    I'm working with classes in Javascript, precis...            other  \n",
       "28    version: 1.25\\r\\n\\r\\ni was just trying to run ...            other  \n",
       "29    <!-- Please search existing issues to avoid cr...            other  \n",
       "...                                                 ...              ...  \n",
       "5351  This file list fine granular parts folders how...            other  \n",
       "5352  It would be great if we could customise the we...  feature-request  \n",
       "5353  Careful when using `path.basename`, it can ret...            other  \n",
       "5354  Since both viewlets and panels are composites ...  feature-request  \n",
       "5355  <!-- Do you have a question? Please ask it on ...            other  \n",
       "5356  <!-- Do you have a question? Please ask it on ...            other  \n",
       "5357  - VSCode Version: 1.18.1 (1.18.1)\\r\\n- OS Vers...              bug  \n",
       "5358  Looks like on Linux when you start to drag (e....              bug  \n",
       "5359  Would be really nice to add a command that all...  feature-request  \n",
       "5360  You see this:\\r\\n\\r\\n![inkedscreenshot 2017-11...  feature-request  \n",
       "5361  Using VSCode on Windows 10, the Variable Subst...  feature-request  \n",
       "5362  ```\\r\\n$ code --version\\r\\n1.18.0\\r\\ndcee22027...              bug  \n",
       "5363  **Bug**\\r\\nA slow to resolve code lens can blo...            other  \n",
       "5364  <!-- Do you have a question? Please ask it on ...  feature-request  \n",
       "5365  Say i have this contributions in my extension:...  feature-request  \n",
       "5366  I was playing with the `priority` value of a [...  feature-request  \n",
       "5367  <!-- Do you have a question? Please ask it on ...              bug  \n",
       "5368  <!-- Do you have a question? Please ask it on ...  feature-request  \n",
       "5369  - VSCode Version: 1.18\\r\\n- OS Version: Fedora...  feature-request  \n",
       "5370  - VSCode Version: Version 1.18.1 (1.18.1)\\r\\n-...              bug  \n",
       "5371  A long time ago, when the VSCodeVim extension ...  feature-request  \n",
       "5372  - VSCode Version: Code 1.18.1 (929bacba01ef658...            other  \n",
       "5373  ![image](https://user-images.githubusercontent...  feature-request  \n",
       "5374  <!-- Do you have a question? Please ask it on ...  feature-request  \n",
       "5375  - Do a search/replace\\r\\n- Open the diff previ...              bug  \n",
       "5376  We are already getting questions about when ou...  feature-request  \n",
       "5377  Extended glob patterns are unlikely to be supp...            other  \n",
       "5378  <!-- Do you have a question? Please ask it on ...              bug  \n",
       "5379  - VSCode Version:\\r\\n1.18.0\\r\\n- OS Version:\\r...            other  \n",
       "5380  When you want to expand selection after last p...            other  \n",
       "\n",
       "[5381 rows x 3 columns]"
      ]
     },
     "execution_count": 6,
     "metadata": {},
     "output_type": "execute_result"
    }
   ],
   "source": [
    "issues"
   ]
  },
  {
   "cell_type": "code",
   "execution_count": 7,
   "metadata": {},
   "outputs": [
    {
     "name": "stdout",
     "output_type": "stream",
     "text": [
      "feature-request    2833\n",
      "other              1644\n",
      "bug                 904\n",
      "Name: labels, dtype: int64\n",
      "Totale : 5381\n"
     ]
    }
   ],
   "source": [
    "print(issues.labels.value_counts())\n",
    "print('Totale : {}'.format(issues.shape[0]))"
   ]
  },
  {
   "cell_type": "markdown",
   "metadata": {},
   "source": [
    "# Séparation des datasets"
   ]
  },
  {
   "cell_type": "markdown",
   "metadata": {},
   "source": [
    "Dans cette section, nous séparons les données en 3 datasets. Ceci afin de valider le classifieur. Nous allons avoir un dataset pour l'entrainement, un pour le test et un dernier pour la validation. On garde 70% de chaque classe pour l'entraînement, et le reste sera divisé en 2 pour les autres datasets."
   ]
  },
  {
   "cell_type": "code",
   "execution_count": 8,
   "metadata": {},
   "outputs": [],
   "source": [
    "dfTrain = {}\n",
    "dfTest = {}\n",
    "dfValidation = {}\n",
    "for l in LABELS:\n",
    "    dfTrain[l] = issues[issues.labels == l].sample(frac=0.7)\n",
    "    reste = issues[issues.labels == l].drop(dfTrain[l].index)\n",
    "    dfTest[l] = reste.sample(frac=0.5)\n",
    "    dfValidation[l] = reste.drop(dfTest[l].index)\n",
    "    \n",
    "dfTrain = pd.concat([dfTrain[l] for l in LABELS ], axis=0)\n",
    "dfTest = pd.concat([dfTest[l] for l in LABELS ], axis=0)\n",
    "dfValidation = pd.concat([dfValidation[l] for l in LABELS ], axis=0)"
   ]
  },
  {
   "cell_type": "code",
   "execution_count": 9,
   "metadata": {},
   "outputs": [
    {
     "data": {
      "text/html": [
       "<div>\n",
       "<style scoped>\n",
       "    .dataframe tbody tr th:only-of-type {\n",
       "        vertical-align: middle;\n",
       "    }\n",
       "\n",
       "    .dataframe tbody tr th {\n",
       "        vertical-align: top;\n",
       "    }\n",
       "\n",
       "    .dataframe thead th {\n",
       "        text-align: right;\n",
       "    }\n",
       "</style>\n",
       "<table border=\"1\" class=\"dataframe\">\n",
       "  <thead>\n",
       "    <tr style=\"text-align: right;\">\n",
       "      <th></th>\n",
       "      <th>title</th>\n",
       "      <th>body</th>\n",
       "      <th>labels</th>\n",
       "    </tr>\n",
       "  </thead>\n",
       "  <tbody>\n",
       "    <tr>\n",
       "      <th>1278</th>\n",
       "      <td>Can't drag a file over a webview in another ed...</td>\n",
       "      <td>- VSCode Version: 1.12 Insiders\\r\\n- OS Versio...</td>\n",
       "      <td>bug</td>\n",
       "    </tr>\n",
       "    <tr>\n",
       "      <th>3116</th>\n",
       "      <td>Panel titles are read twice</td>\n",
       "      <td>**Environment Details:** \\r\\nVSCode Version : ...</td>\n",
       "      <td>bug</td>\n",
       "    </tr>\n",
       "    <tr>\n",
       "      <th>5174</th>\n",
       "      <td>VoiceOver reports search results as an \"empty ...</td>\n",
       "      <td>Turn VoiceOver on and then focus the search vi...</td>\n",
       "      <td>bug</td>\n",
       "    </tr>\n",
       "    <tr>\n",
       "      <th>784</th>\n",
       "      <td>Window title only repainting when window is re...</td>\n",
       "      <td>- VSCode Version: Code 1.14.2 (cb82febafda0c8c...</td>\n",
       "      <td>bug</td>\n",
       "    </tr>\n",
       "    <tr>\n",
       "      <th>4682</th>\n",
       "      <td>node debug adapter must support file URLs</td>\n",
       "      <td>\\r\\n- I have a javascript program which execut...</td>\n",
       "      <td>bug</td>\n",
       "    </tr>\n",
       "  </tbody>\n",
       "</table>\n",
       "</div>"
      ],
      "text/plain": [
       "                                                  title  \\\n",
       "1278  Can't drag a file over a webview in another ed...   \n",
       "3116                        Panel titles are read twice   \n",
       "5174  VoiceOver reports search results as an \"empty ...   \n",
       "784   Window title only repainting when window is re...   \n",
       "4682          node debug adapter must support file URLs   \n",
       "\n",
       "                                                   body labels  \n",
       "1278  - VSCode Version: 1.12 Insiders\\r\\n- OS Versio...    bug  \n",
       "3116  **Environment Details:** \\r\\nVSCode Version : ...    bug  \n",
       "5174  Turn VoiceOver on and then focus the search vi...    bug  \n",
       "784   - VSCode Version: Code 1.14.2 (cb82febafda0c8c...    bug  \n",
       "4682  \\r\\n- I have a javascript program which execut...    bug  "
      ]
     },
     "execution_count": 9,
     "metadata": {},
     "output_type": "execute_result"
    }
   ],
   "source": [
    "dfTrain.head()"
   ]
  },
  {
   "cell_type": "code",
   "execution_count": 10,
   "metadata": {},
   "outputs": [
    {
     "data": {
      "text/plain": [
       "feature-request    1983\n",
       "other              1151\n",
       "bug                 633\n",
       "Name: labels, dtype: int64"
      ]
     },
     "execution_count": 10,
     "metadata": {},
     "output_type": "execute_result"
    }
   ],
   "source": [
    "dfTrain.labels.value_counts()"
   ]
  },
  {
   "cell_type": "code",
   "execution_count": 11,
   "metadata": {},
   "outputs": [
    {
     "data": {
      "text/html": [
       "<div>\n",
       "<style scoped>\n",
       "    .dataframe tbody tr th:only-of-type {\n",
       "        vertical-align: middle;\n",
       "    }\n",
       "\n",
       "    .dataframe tbody tr th {\n",
       "        vertical-align: top;\n",
       "    }\n",
       "\n",
       "    .dataframe thead th {\n",
       "        text-align: right;\n",
       "    }\n",
       "</style>\n",
       "<table border=\"1\" class=\"dataframe\">\n",
       "  <thead>\n",
       "    <tr style=\"text-align: right;\">\n",
       "      <th></th>\n",
       "      <th>title</th>\n",
       "      <th>body</th>\n",
       "      <th>labels</th>\n",
       "    </tr>\n",
       "  </thead>\n",
       "  <tbody>\n",
       "    <tr>\n",
       "      <th>4496</th>\n",
       "      <td>Newly created folder is not revealed and selected</td>\n",
       "      <td>Issue Type: &lt;b&gt;Bug&lt;/b&gt;\\r\\n\\r\\nTesting #43968.\\...</td>\n",
       "      <td>bug</td>\n",
       "    </tr>\n",
       "    <tr>\n",
       "      <th>1059</th>\n",
       "      <td>Terminal.onDidWriteData sends duplicate data</td>\n",
       "      <td>Version: 1.25.0-insider\\r\\nCommit: fb0b8f12036...</td>\n",
       "      <td>bug</td>\n",
       "    </tr>\n",
       "    <tr>\n",
       "      <th>2090</th>\n",
       "      <td>Cannot debug mocha/es6 tests</td>\n",
       "      <td>- VSCode Version: 1.6.1\\n- OS Version: Windows...</td>\n",
       "      <td>bug</td>\n",
       "    </tr>\n",
       "    <tr>\n",
       "      <th>2113</th>\n",
       "      <td>Project Search/Replace with RegExp with \\n onl...</td>\n",
       "      <td>- VSCode Version: 1.5 and 1.6.0-insiders\\n\\nSt...</td>\n",
       "      <td>bug</td>\n",
       "    </tr>\n",
       "    <tr>\n",
       "      <th>2910</th>\n",
       "      <td>Extension settings don't show up when settings...</td>\n",
       "      <td>- Open settings editor (new or old)\\r\\n- Close...</td>\n",
       "      <td>bug</td>\n",
       "    </tr>\n",
       "  </tbody>\n",
       "</table>\n",
       "</div>"
      ],
      "text/plain": [
       "                                                  title  \\\n",
       "4496  Newly created folder is not revealed and selected   \n",
       "1059       Terminal.onDidWriteData sends duplicate data   \n",
       "2090                       Cannot debug mocha/es6 tests   \n",
       "2113  Project Search/Replace with RegExp with \\n onl...   \n",
       "2910  Extension settings don't show up when settings...   \n",
       "\n",
       "                                                   body labels  \n",
       "4496  Issue Type: <b>Bug</b>\\r\\n\\r\\nTesting #43968.\\...    bug  \n",
       "1059  Version: 1.25.0-insider\\r\\nCommit: fb0b8f12036...    bug  \n",
       "2090  - VSCode Version: 1.6.1\\n- OS Version: Windows...    bug  \n",
       "2113  - VSCode Version: 1.5 and 1.6.0-insiders\\n\\nSt...    bug  \n",
       "2910  - Open settings editor (new or old)\\r\\n- Close...    bug  "
      ]
     },
     "execution_count": 11,
     "metadata": {},
     "output_type": "execute_result"
    }
   ],
   "source": [
    "dfTest.head()"
   ]
  },
  {
   "cell_type": "code",
   "execution_count": 12,
   "metadata": {},
   "outputs": [
    {
     "data": {
      "text/plain": [
       "feature-request    425\n",
       "other              246\n",
       "bug                136\n",
       "Name: labels, dtype: int64"
      ]
     },
     "execution_count": 12,
     "metadata": {},
     "output_type": "execute_result"
    }
   ],
   "source": [
    "dfTest.labels.value_counts()"
   ]
  },
  {
   "cell_type": "code",
   "execution_count": 13,
   "metadata": {},
   "outputs": [
    {
     "data": {
      "text/html": [
       "<div>\n",
       "<style scoped>\n",
       "    .dataframe tbody tr th:only-of-type {\n",
       "        vertical-align: middle;\n",
       "    }\n",
       "\n",
       "    .dataframe tbody tr th {\n",
       "        vertical-align: top;\n",
       "    }\n",
       "\n",
       "    .dataframe thead th {\n",
       "        text-align: right;\n",
       "    }\n",
       "</style>\n",
       "<table border=\"1\" class=\"dataframe\">\n",
       "  <thead>\n",
       "    <tr style=\"text-align: right;\">\n",
       "      <th></th>\n",
       "      <th>title</th>\n",
       "      <th>body</th>\n",
       "      <th>labels</th>\n",
       "    </tr>\n",
       "  </thead>\n",
       "  <tbody>\n",
       "    <tr>\n",
       "      <th>85</th>\n",
       "      <td>Toggling sidebar switches away from settings e...</td>\n",
       "      <td>Issue Type: &lt;b&gt;Bug&lt;/b&gt;\\r\\n\\r\\n**Repo**\\r\\n1. O...</td>\n",
       "      <td>bug</td>\n",
       "    </tr>\n",
       "    <tr>\n",
       "      <th>168</th>\n",
       "      <td>Deleting .code-workspace contents can break ex...</td>\n",
       "      <td>Testing #35871\\r\\n\\r\\n1. Create a simple works...</td>\n",
       "      <td>bug</td>\n",
       "    </tr>\n",
       "    <tr>\n",
       "      <th>189</th>\n",
       "      <td>Number badge not nicely alligned in problems view</td>\n",
       "      <td>\\r\\n&lt;img width=\"189\" alt=\"capture\" src=\"https:...</td>\n",
       "      <td>bug</td>\n",
       "    </tr>\n",
       "    <tr>\n",
       "      <th>293</th>\n",
       "      <td>Editor indentation incorrect around tabbed fun...</td>\n",
       "      <td>Indentation does not seem to work correctly fo...</td>\n",
       "      <td>bug</td>\n",
       "    </tr>\n",
       "    <tr>\n",
       "      <th>335</th>\n",
       "      <td>WorkspaceConfiguration.get doesn't respect def...</td>\n",
       "      <td>Steps to Reproduce:\\r\\n\\r\\n1. Create a simple ...</td>\n",
       "      <td>bug</td>\n",
       "    </tr>\n",
       "  </tbody>\n",
       "</table>\n",
       "</div>"
      ],
      "text/plain": [
       "                                                 title  \\\n",
       "85   Toggling sidebar switches away from settings e...   \n",
       "168  Deleting .code-workspace contents can break ex...   \n",
       "189  Number badge not nicely alligned in problems view   \n",
       "293  Editor indentation incorrect around tabbed fun...   \n",
       "335  WorkspaceConfiguration.get doesn't respect def...   \n",
       "\n",
       "                                                  body labels  \n",
       "85   Issue Type: <b>Bug</b>\\r\\n\\r\\n**Repo**\\r\\n1. O...    bug  \n",
       "168  Testing #35871\\r\\n\\r\\n1. Create a simple works...    bug  \n",
       "189  \\r\\n<img width=\"189\" alt=\"capture\" src=\"https:...    bug  \n",
       "293  Indentation does not seem to work correctly fo...    bug  \n",
       "335  Steps to Reproduce:\\r\\n\\r\\n1. Create a simple ...    bug  "
      ]
     },
     "execution_count": 13,
     "metadata": {},
     "output_type": "execute_result"
    }
   ],
   "source": [
    "dfValidation.head()"
   ]
  },
  {
   "cell_type": "code",
   "execution_count": 14,
   "metadata": {},
   "outputs": [
    {
     "data": {
      "text/plain": [
       "feature-request    425\n",
       "other              247\n",
       "bug                135\n",
       "Name: labels, dtype: int64"
      ]
     },
     "execution_count": 14,
     "metadata": {},
     "output_type": "execute_result"
    }
   ],
   "source": [
    "dfValidation.labels.value_counts()"
   ]
  },
  {
   "cell_type": "markdown",
   "metadata": {},
   "source": [
    "On constate un déséquilibre au niveau  du nombre d'éléments par classe. Cela pourra poser des difficultés pour l'apprentissage."
   ]
  },
  {
   "cell_type": "markdown",
   "metadata": {},
   "source": [
    "# Feature Extraction"
   ]
  },
  {
   "cell_type": "markdown",
   "metadata": {},
   "source": [
    "Maintenant que nous avons nos datasets, nous allons normaliser nos données, afin d'aider notre classifier à trouver du sens. Pour ce faire, nous allons \"stemmatiser\" les différents textes, \"tokanier\" pour récupérer les différents termes utilisés. Pour finir, notre dataset ressemblera à un Bag of Words (BoW). Concrètement nous aurons une matrice (n exemples x m mots). Les m mots sont tous les mots rencontrés dans le dataset d'entraînement. Les différentes valeurs correspondront au nombre de fois que le mot est utilisé par un exemple."
   ]
  },
  {
   "cell_type": "code",
   "execution_count": 15,
   "metadata": {},
   "outputs": [],
   "source": [
    "#Transforme une chaîne de caractère en un liste de tokens.\n",
    "#On supprime les stop words (at, to ...), les ponctuations et les urls\n",
    "def string_to_tokens(mystring):\n",
    "    tokens = nltk.tokenize.TweetTokenizer().tokenize(mystring)\n",
    "    stopwords = nltk.corpus.stopwords.words('english')\n",
    "    stemmer = nltk.stem.PorterStemmer()\n",
    "    \n",
    "    for i in range(len(tokens))[::-1]:\n",
    "        if tokens[i] in stopwords:\n",
    "            tokens.remove(tokens[i]) #On retire les stopwords\n",
    "        elif len(tokens[i]) <= 1:\n",
    "            tokens.remove(tokens[i])\n",
    "        elif 'https://' in tokens[i]: #suppression des url\n",
    "            tokens.remove(tokens[i])\n",
    "        else :    \n",
    "            tokens[i] = stemmer.stem(tokens[i])\n",
    "            tokens[i] = tokens[i].lower()\n",
    "        \n",
    "    return tokens"
   ]
  },
  {
   "cell_type": "code",
   "execution_count": 16,
   "metadata": {},
   "outputs": [],
   "source": [
    "#Retourne à partir d'une liste de tokens un dictionnaire des tokens et leur nombre d'apparition\n",
    "def token_frequency(tokens):\n",
    "    frequencies = {t : 0 for t in tokens}\n",
    "    \n",
    "    for t in tokens:\n",
    "        frequencies[t] += 1\n",
    "    return frequencies"
   ]
  },
  {
   "cell_type": "code",
   "execution_count": 17,
   "metadata": {},
   "outputs": [],
   "source": [
    "tmpTrain = dict()\n",
    "for ind, row in dfTrain.iterrows():\n",
    "    string = str(row['title']) + ' ' + str(row['body'])\n",
    "    tmp = {}\n",
    "    tmp = token_frequency(string_to_tokens(string))\n",
    "    tmp['label'] = row['labels']\n",
    "    tmpTrain[str(ind)] = tmp"
   ]
  },
  {
   "cell_type": "code",
   "execution_count": 19,
   "metadata": {},
   "outputs": [],
   "source": [
    "X = pd.DataFrame(tmpTrain).T"
   ]
  },
  {
   "cell_type": "code",
   "execution_count": 20,
   "metadata": {
    "scrolled": true
   },
   "outputs": [
    {
     "data": {
      "text/html": [
       "<div>\n",
       "<style scoped>\n",
       "    .dataframe tbody tr th:only-of-type {\n",
       "        vertical-align: middle;\n",
       "    }\n",
       "\n",
       "    .dataframe tbody tr th {\n",
       "        vertical-align: top;\n",
       "    }\n",
       "\n",
       "    .dataframe thead th {\n",
       "        text-align: right;\n",
       "    }\n",
       "</style>\n",
       "<table border=\"1\" class=\"dataframe\">\n",
       "  <thead>\n",
       "    <tr style=\"text-align: right;\">\n",
       "      <th></th>\n",
       "      <th>##vscode</th>\n",
       "      <th>#000</th>\n",
       "      <th>#000000</th>\n",
       "      <th>#0000ff</th>\n",
       "      <th>#008000</th>\n",
       "      <th>#00ff00</th>\n",
       "      <th>#10</th>\n",
       "      <th>#101</th>\n",
       "      <th>#10170</th>\n",
       "      <th>#10317</th>\n",
       "      <th>...</th>\n",
       "      <th>閣下確認閣下在使用互聯網及網上操守方面已獲得所有必需的批准</th>\n",
       "      <th>附帶</th>\n",
       "      <th>雲端硬碟</th>\n",
       "      <th>香港</th>\n",
       "      <th>가ㄹ</th>\n",
       "      <th>가ㅁ</th>\n",
       "      <th>가ㅈ</th>\n",
       "      <th>ａａａ</th>\n",
       "      <th>𝑺𝑻𝑶𝑷</th>\n",
       "      <th>𝗦𝗧𝗢𝗣</th>\n",
       "    </tr>\n",
       "  </thead>\n",
       "  <tbody>\n",
       "    <tr>\n",
       "      <th>1278</th>\n",
       "      <td>0</td>\n",
       "      <td>0</td>\n",
       "      <td>0</td>\n",
       "      <td>0</td>\n",
       "      <td>0</td>\n",
       "      <td>0</td>\n",
       "      <td>0</td>\n",
       "      <td>0</td>\n",
       "      <td>0</td>\n",
       "      <td>0</td>\n",
       "      <td>...</td>\n",
       "      <td>0</td>\n",
       "      <td>0</td>\n",
       "      <td>0</td>\n",
       "      <td>0</td>\n",
       "      <td>0</td>\n",
       "      <td>0</td>\n",
       "      <td>0</td>\n",
       "      <td>0</td>\n",
       "      <td>0</td>\n",
       "      <td>0</td>\n",
       "    </tr>\n",
       "    <tr>\n",
       "      <th>3116</th>\n",
       "      <td>0</td>\n",
       "      <td>0</td>\n",
       "      <td>0</td>\n",
       "      <td>0</td>\n",
       "      <td>0</td>\n",
       "      <td>0</td>\n",
       "      <td>0</td>\n",
       "      <td>0</td>\n",
       "      <td>0</td>\n",
       "      <td>0</td>\n",
       "      <td>...</td>\n",
       "      <td>0</td>\n",
       "      <td>0</td>\n",
       "      <td>0</td>\n",
       "      <td>0</td>\n",
       "      <td>0</td>\n",
       "      <td>0</td>\n",
       "      <td>0</td>\n",
       "      <td>0</td>\n",
       "      <td>0</td>\n",
       "      <td>0</td>\n",
       "    </tr>\n",
       "    <tr>\n",
       "      <th>5174</th>\n",
       "      <td>0</td>\n",
       "      <td>0</td>\n",
       "      <td>0</td>\n",
       "      <td>0</td>\n",
       "      <td>0</td>\n",
       "      <td>0</td>\n",
       "      <td>0</td>\n",
       "      <td>0</td>\n",
       "      <td>0</td>\n",
       "      <td>0</td>\n",
       "      <td>...</td>\n",
       "      <td>0</td>\n",
       "      <td>0</td>\n",
       "      <td>0</td>\n",
       "      <td>0</td>\n",
       "      <td>0</td>\n",
       "      <td>0</td>\n",
       "      <td>0</td>\n",
       "      <td>0</td>\n",
       "      <td>0</td>\n",
       "      <td>0</td>\n",
       "    </tr>\n",
       "    <tr>\n",
       "      <th>784</th>\n",
       "      <td>0</td>\n",
       "      <td>0</td>\n",
       "      <td>0</td>\n",
       "      <td>0</td>\n",
       "      <td>0</td>\n",
       "      <td>0</td>\n",
       "      <td>0</td>\n",
       "      <td>0</td>\n",
       "      <td>0</td>\n",
       "      <td>0</td>\n",
       "      <td>...</td>\n",
       "      <td>0</td>\n",
       "      <td>0</td>\n",
       "      <td>0</td>\n",
       "      <td>0</td>\n",
       "      <td>0</td>\n",
       "      <td>0</td>\n",
       "      <td>0</td>\n",
       "      <td>0</td>\n",
       "      <td>0</td>\n",
       "      <td>0</td>\n",
       "    </tr>\n",
       "    <tr>\n",
       "      <th>4682</th>\n",
       "      <td>0</td>\n",
       "      <td>0</td>\n",
       "      <td>0</td>\n",
       "      <td>0</td>\n",
       "      <td>0</td>\n",
       "      <td>0</td>\n",
       "      <td>0</td>\n",
       "      <td>0</td>\n",
       "      <td>0</td>\n",
       "      <td>0</td>\n",
       "      <td>...</td>\n",
       "      <td>0</td>\n",
       "      <td>0</td>\n",
       "      <td>0</td>\n",
       "      <td>0</td>\n",
       "      <td>0</td>\n",
       "      <td>0</td>\n",
       "      <td>0</td>\n",
       "      <td>0</td>\n",
       "      <td>0</td>\n",
       "      <td>0</td>\n",
       "    </tr>\n",
       "  </tbody>\n",
       "</table>\n",
       "<p>5 rows × 22885 columns</p>\n",
       "</div>"
      ],
      "text/plain": [
       "      ##vscode  #000  #000000  #0000ff  #008000  #00ff00  #10  #101  #10170  \\\n",
       "1278         0     0        0        0        0        0    0     0       0   \n",
       "3116         0     0        0        0        0        0    0     0       0   \n",
       "5174         0     0        0        0        0        0    0     0       0   \n",
       "784          0     0        0        0        0        0    0     0       0   \n",
       "4682         0     0        0        0        0        0    0     0       0   \n",
       "\n",
       "      #10317  ...   閣下確認閣下在使用互聯網及網上操守方面已獲得所有必需的批准  附帶  雲端硬碟  香港  가ㄹ  가ㅁ  가ㅈ  \\\n",
       "1278       0  ...                               0   0     0   0   0   0   0   \n",
       "3116       0  ...                               0   0     0   0   0   0   0   \n",
       "5174       0  ...                               0   0     0   0   0   0   0   \n",
       "784        0  ...                               0   0     0   0   0   0   0   \n",
       "4682       0  ...                               0   0     0   0   0   0   0   \n",
       "\n",
       "      ａａａ  𝑺𝑻𝑶𝑷  𝗦𝗧𝗢𝗣  \n",
       "1278    0     0     0  \n",
       "3116    0     0     0  \n",
       "5174    0     0     0  \n",
       "784     0     0     0  \n",
       "4682    0     0     0  \n",
       "\n",
       "[5 rows x 22885 columns]"
      ]
     },
     "execution_count": 20,
     "metadata": {},
     "output_type": "execute_result"
    }
   ],
   "source": [
    "X = X.fillna(0)\n",
    "X.head()"
   ]
  },
  {
   "cell_type": "code",
   "execution_count": 21,
   "metadata": {},
   "outputs": [],
   "source": [
    "X.to_csv('BoW.csv')\n",
    "dfTrain.to_csv('dfTrain.csv')\n",
    "dfTest.to_csv('dfTest.csv')\n",
    "dfValidation.to_csv('dfValidationi.csv')"
   ]
  },
  {
   "cell_type": "markdown",
   "metadata": {},
   "source": [
    "# Entraînement"
   ]
  },
  {
   "cell_type": "code",
   "execution_count": 31,
   "metadata": {},
   "outputs": [],
   "source": [
    "def transform_df_like_BoW(words, df):\n",
    "    newDf = pd.DataFrame(columns=words)\n",
    "    for ind, row in df.iterrows():\n",
    "        string = str(row['title']) + ' ' + str(row['body'])\n",
    "        tokens = string_to_tokens(string)\n",
    "        newDf.loc[ind] = [tokens.count(word) for word in words]\n",
    "        newDf.loc[ind,'label'] = row['labels']\n",
    "    return newDf"
   ]
  },
  {
   "cell_type": "code",
   "execution_count": 32,
   "metadata": {},
   "outputs": [],
   "source": [
    "test = transform_df_like_BoW(X.columns.tolist(), dfTest)"
   ]
  },
  {
   "cell_type": "code",
   "execution_count": 34,
   "metadata": {
    "scrolled": true
   },
   "outputs": [
    {
     "data": {
      "text/html": [
       "<div>\n",
       "<style scoped>\n",
       "    .dataframe tbody tr th:only-of-type {\n",
       "        vertical-align: middle;\n",
       "    }\n",
       "\n",
       "    .dataframe tbody tr th {\n",
       "        vertical-align: top;\n",
       "    }\n",
       "\n",
       "    .dataframe thead th {\n",
       "        text-align: right;\n",
       "    }\n",
       "</style>\n",
       "<table border=\"1\" class=\"dataframe\">\n",
       "  <thead>\n",
       "    <tr style=\"text-align: right;\">\n",
       "      <th></th>\n",
       "      <th>##vscode</th>\n",
       "      <th>#000</th>\n",
       "      <th>#000000</th>\n",
       "      <th>#0000ff</th>\n",
       "      <th>#008000</th>\n",
       "      <th>#00ff00</th>\n",
       "      <th>#10</th>\n",
       "      <th>#101</th>\n",
       "      <th>#10170</th>\n",
       "      <th>#10317</th>\n",
       "      <th>...</th>\n",
       "      <th>閣下確認閣下在使用互聯網及網上操守方面已獲得所有必需的批准</th>\n",
       "      <th>附帶</th>\n",
       "      <th>雲端硬碟</th>\n",
       "      <th>香港</th>\n",
       "      <th>가ㄹ</th>\n",
       "      <th>가ㅁ</th>\n",
       "      <th>가ㅈ</th>\n",
       "      <th>ａａａ</th>\n",
       "      <th>𝑺𝑻𝑶𝑷</th>\n",
       "      <th>𝗦𝗧𝗢𝗣</th>\n",
       "    </tr>\n",
       "  </thead>\n",
       "  <tbody>\n",
       "    <tr>\n",
       "      <th>4496</th>\n",
       "      <td>0</td>\n",
       "      <td>0</td>\n",
       "      <td>0</td>\n",
       "      <td>0</td>\n",
       "      <td>0</td>\n",
       "      <td>0</td>\n",
       "      <td>0</td>\n",
       "      <td>0</td>\n",
       "      <td>0</td>\n",
       "      <td>0</td>\n",
       "      <td>...</td>\n",
       "      <td>0</td>\n",
       "      <td>0</td>\n",
       "      <td>0</td>\n",
       "      <td>0</td>\n",
       "      <td>0</td>\n",
       "      <td>0</td>\n",
       "      <td>0</td>\n",
       "      <td>0</td>\n",
       "      <td>0</td>\n",
       "      <td>0</td>\n",
       "    </tr>\n",
       "    <tr>\n",
       "      <th>1059</th>\n",
       "      <td>0</td>\n",
       "      <td>0</td>\n",
       "      <td>0</td>\n",
       "      <td>0</td>\n",
       "      <td>0</td>\n",
       "      <td>0</td>\n",
       "      <td>0</td>\n",
       "      <td>0</td>\n",
       "      <td>0</td>\n",
       "      <td>0</td>\n",
       "      <td>...</td>\n",
       "      <td>0</td>\n",
       "      <td>0</td>\n",
       "      <td>0</td>\n",
       "      <td>0</td>\n",
       "      <td>0</td>\n",
       "      <td>0</td>\n",
       "      <td>0</td>\n",
       "      <td>0</td>\n",
       "      <td>0</td>\n",
       "      <td>0</td>\n",
       "    </tr>\n",
       "    <tr>\n",
       "      <th>2090</th>\n",
       "      <td>0</td>\n",
       "      <td>0</td>\n",
       "      <td>0</td>\n",
       "      <td>0</td>\n",
       "      <td>0</td>\n",
       "      <td>0</td>\n",
       "      <td>0</td>\n",
       "      <td>0</td>\n",
       "      <td>0</td>\n",
       "      <td>0</td>\n",
       "      <td>...</td>\n",
       "      <td>0</td>\n",
       "      <td>0</td>\n",
       "      <td>0</td>\n",
       "      <td>0</td>\n",
       "      <td>0</td>\n",
       "      <td>0</td>\n",
       "      <td>0</td>\n",
       "      <td>0</td>\n",
       "      <td>0</td>\n",
       "      <td>0</td>\n",
       "    </tr>\n",
       "    <tr>\n",
       "      <th>2113</th>\n",
       "      <td>0</td>\n",
       "      <td>0</td>\n",
       "      <td>0</td>\n",
       "      <td>0</td>\n",
       "      <td>0</td>\n",
       "      <td>0</td>\n",
       "      <td>0</td>\n",
       "      <td>0</td>\n",
       "      <td>0</td>\n",
       "      <td>0</td>\n",
       "      <td>...</td>\n",
       "      <td>0</td>\n",
       "      <td>0</td>\n",
       "      <td>0</td>\n",
       "      <td>0</td>\n",
       "      <td>0</td>\n",
       "      <td>0</td>\n",
       "      <td>0</td>\n",
       "      <td>0</td>\n",
       "      <td>0</td>\n",
       "      <td>0</td>\n",
       "    </tr>\n",
       "    <tr>\n",
       "      <th>2910</th>\n",
       "      <td>0</td>\n",
       "      <td>0</td>\n",
       "      <td>0</td>\n",
       "      <td>0</td>\n",
       "      <td>0</td>\n",
       "      <td>0</td>\n",
       "      <td>0</td>\n",
       "      <td>0</td>\n",
       "      <td>0</td>\n",
       "      <td>0</td>\n",
       "      <td>...</td>\n",
       "      <td>0</td>\n",
       "      <td>0</td>\n",
       "      <td>0</td>\n",
       "      <td>0</td>\n",
       "      <td>0</td>\n",
       "      <td>0</td>\n",
       "      <td>0</td>\n",
       "      <td>0</td>\n",
       "      <td>0</td>\n",
       "      <td>0</td>\n",
       "    </tr>\n",
       "  </tbody>\n",
       "</table>\n",
       "<p>5 rows × 22885 columns</p>\n",
       "</div>"
      ],
      "text/plain": [
       "     ##vscode #000 #000000 #0000ff #008000 #00ff00 #10 #101 #10170 #10317  \\\n",
       "4496        0    0       0       0       0       0   0    0      0      0   \n",
       "1059        0    0       0       0       0       0   0    0      0      0   \n",
       "2090        0    0       0       0       0       0   0    0      0      0   \n",
       "2113        0    0       0       0       0       0   0    0      0      0   \n",
       "2910        0    0       0       0       0       0   0    0      0      0   \n",
       "\n",
       "     ...  閣下確認閣下在使用互聯網及網上操守方面已獲得所有必需的批准 附帶 雲端硬碟 香港 가ㄹ 가ㅁ 가ㅈ ａａａ 𝑺𝑻𝑶𝑷 𝗦𝗧𝗢𝗣  \n",
       "4496 ...                              0  0    0  0  0  0  0   0    0    0  \n",
       "1059 ...                              0  0    0  0  0  0  0   0    0    0  \n",
       "2090 ...                              0  0    0  0  0  0  0   0    0    0  \n",
       "2113 ...                              0  0    0  0  0  0  0   0    0    0  \n",
       "2910 ...                              0  0    0  0  0  0  0   0    0    0  \n",
       "\n",
       "[5 rows x 22885 columns]"
      ]
     },
     "execution_count": 34,
     "metadata": {},
     "output_type": "execute_result"
    }
   ],
   "source": [
    "test.head()"
   ]
  },
  {
   "cell_type": "code",
   "execution_count": 23,
   "metadata": {},
   "outputs": [],
   "source": [
    "from sklearn.naive_bayes import GaussianNB\n",
    "gnb = GaussianNB()"
   ]
  },
  {
   "cell_type": "code",
   "execution_count": 25,
   "metadata": {},
   "outputs": [],
   "source": [
    "clf = gnb.fit(X=X.drop('label', axis=1), y=X.label)"
   ]
  },
  {
   "cell_type": "code",
   "execution_count": 35,
   "metadata": {},
   "outputs": [],
   "source": [
    "pred = clf.predict(X=test.drop('label',axis=1))"
   ]
  },
  {
   "cell_type": "code",
   "execution_count": 38,
   "metadata": {},
   "outputs": [
    {
     "name": "stdout",
     "output_type": "stream",
     "text": [
      "0.5006195786864932\n"
     ]
    }
   ],
   "source": [
    "from sklearn.metrics import accuracy_score\n",
    "\n",
    "print(accuracy_score(test.label, pred))"
   ]
  },
  {
   "cell_type": "code",
   "execution_count": 39,
   "metadata": {},
   "outputs": [],
   "source": [
    "from sklearn.ensemble import RandomForestClassifier\n",
    "clf = RandomForestClassifier()"
   ]
  },
  {
   "cell_type": "code",
   "execution_count": 41,
   "metadata": {},
   "outputs": [],
   "source": [
    "clf = clf.fit(X=X.drop('label', axis=1), y=X.label)"
   ]
  },
  {
   "cell_type": "code",
   "execution_count": 42,
   "metadata": {},
   "outputs": [],
   "source": [
    "pred = clf.predict(X=test.drop('label',axis=1))"
   ]
  },
  {
   "cell_type": "code",
   "execution_count": 43,
   "metadata": {},
   "outputs": [
    {
     "name": "stdout",
     "output_type": "stream",
     "text": [
      "0.5997521685254027\n"
     ]
    }
   ],
   "source": [
    "print(accuracy_score(test.label, pred))"
   ]
  },
  {
   "cell_type": "code",
   "execution_count": 44,
   "metadata": {},
   "outputs": [
    {
     "name": "stdout",
     "output_type": "stream",
     "text": [
      "0.5452292441140025\n"
     ]
    }
   ],
   "source": [
    "from sklearn import svm\n",
    "clf = svm.SVC()\n",
    "clf = clf.fit(X=X.drop('label', axis=1), y=X.label)\n",
    "pred = clf.predict(X=test.drop('label',axis=1))\n",
    "print(accuracy_score(test.label, pred))"
   ]
  },
  {
   "cell_type": "code",
   "execution_count": 76,
   "metadata": {},
   "outputs": [],
   "source": [
    "def labels_to_binary_vector(labels):\n",
    "    vector = []\n",
    "    for l in labels:\n",
    "        n = LABELS.index(l)\n",
    "        vector.append(np.array([0] * n + [1] + [0] * (3-n-1)))\n",
    "    return vector"
   ]
  },
  {
   "cell_type": "code",
   "execution_count": 82,
   "metadata": {},
   "outputs": [
    {
     "data": {
      "text/plain": [
       "(3,)"
      ]
     },
     "execution_count": 82,
     "metadata": {},
     "output_type": "execute_result"
    }
   ],
   "source": [
    "labels_to_binary_vector(LABELS * 2)[0].shape"
   ]
  },
  {
   "cell_type": "code",
   "execution_count": 88,
   "metadata": {},
   "outputs": [
    {
     "data": {
      "text/plain": [
       "(3767, 3)"
      ]
     },
     "execution_count": 88,
     "metadata": {},
     "output_type": "execute_result"
    }
   ],
   "source": [
    "np.array(labels_to_binary_vector(X.label)).shape"
   ]
  },
  {
   "cell_type": "code",
   "execution_count": 45,
   "metadata": {},
   "outputs": [
    {
     "name": "stderr",
     "output_type": "stream",
     "text": [
      "Using TensorFlow backend.\n"
     ]
    }
   ],
   "source": [
    "import keras"
   ]
  },
  {
   "cell_type": "code",
   "execution_count": 50,
   "metadata": {},
   "outputs": [],
   "source": [
    "model = keras.models.Sequential()\n",
    "model.add(keras.layers.Dense(units=1000, activation='relu', input_dim=X.shape[1] - 1))\n",
    "model.add(keras.layers.Dense(units=500, activation='relu'))\n",
    "model.add(keras.layers.Dense(units=3, activation='relu'))\n",
    "\n",
    "model.compile(loss=keras.losses.categorical_crossentropy,\n",
    "              optimizer=keras.optimizers.SGD(lr=0.01, momentum=0.9, nesterov=True))"
   ]
  },
  {
   "cell_type": "code",
   "execution_count": 93,
   "metadata": {},
   "outputs": [
    {
     "name": "stdout",
     "output_type": "stream",
     "text": [
      "Epoch 1/100\n",
      "2272/3767 [=================>............] - ETA: 19s - loss: nan"
     ]
    },
    {
     "ename": "KeyboardInterrupt",
     "evalue": "",
     "output_type": "error",
     "traceback": [
      "\u001b[0;31m---------------------------------------------------------------------------\u001b[0m",
      "\u001b[0;31mKeyboardInterrupt\u001b[0m                         Traceback (most recent call last)",
      "\u001b[0;32m<ipython-input-93-329546fe7956>\u001b[0m in \u001b[0;36m<module>\u001b[0;34m()\u001b[0m\n\u001b[0;32m----> 1\u001b[0;31m \u001b[0mmodel\u001b[0m\u001b[0;34m.\u001b[0m\u001b[0mfit\u001b[0m\u001b[0;34m(\u001b[0m\u001b[0mX\u001b[0m\u001b[0;34m.\u001b[0m\u001b[0mdrop\u001b[0m\u001b[0;34m(\u001b[0m\u001b[0;34m'label'\u001b[0m\u001b[0;34m,\u001b[0m \u001b[0maxis\u001b[0m\u001b[0;34m=\u001b[0m\u001b[0;36m1\u001b[0m\u001b[0;34m)\u001b[0m\u001b[0;34m.\u001b[0m\u001b[0mvalues\u001b[0m\u001b[0;34m,\u001b[0m \u001b[0mnp\u001b[0m\u001b[0;34m.\u001b[0m\u001b[0marray\u001b[0m\u001b[0;34m(\u001b[0m\u001b[0mlabels_to_binary_vector\u001b[0m\u001b[0;34m(\u001b[0m\u001b[0mX\u001b[0m\u001b[0;34m.\u001b[0m\u001b[0mlabel\u001b[0m\u001b[0;34m.\u001b[0m\u001b[0mtolist\u001b[0m\u001b[0;34m(\u001b[0m\u001b[0;34m)\u001b[0m\u001b[0;34m)\u001b[0m\u001b[0;34m)\u001b[0m\u001b[0;34m,\u001b[0m \u001b[0mepochs\u001b[0m\u001b[0;34m=\u001b[0m\u001b[0;36m100\u001b[0m\u001b[0;34m,\u001b[0m \u001b[0mbatch_size\u001b[0m\u001b[0;34m=\u001b[0m\u001b[0;36m32\u001b[0m\u001b[0;34m,\u001b[0m \u001b[0mshuffle\u001b[0m\u001b[0;34m=\u001b[0m\u001b[0;32mTrue\u001b[0m\u001b[0;34m)\u001b[0m\u001b[0;34m\u001b[0m\u001b[0m\n\u001b[0m",
      "\u001b[0;32m~/.local/lib/python3.6/site-packages/keras/engine/training.py\u001b[0m in \u001b[0;36mfit\u001b[0;34m(self, x, y, batch_size, epochs, verbose, callbacks, validation_split, validation_data, shuffle, class_weight, sample_weight, initial_epoch, steps_per_epoch, validation_steps, **kwargs)\u001b[0m\n\u001b[1;32m   1040\u001b[0m                                         \u001b[0minitial_epoch\u001b[0m\u001b[0;34m=\u001b[0m\u001b[0minitial_epoch\u001b[0m\u001b[0;34m,\u001b[0m\u001b[0;34m\u001b[0m\u001b[0m\n\u001b[1;32m   1041\u001b[0m                                         \u001b[0msteps_per_epoch\u001b[0m\u001b[0;34m=\u001b[0m\u001b[0msteps_per_epoch\u001b[0m\u001b[0;34m,\u001b[0m\u001b[0;34m\u001b[0m\u001b[0m\n\u001b[0;32m-> 1042\u001b[0;31m                                         validation_steps=validation_steps)\n\u001b[0m\u001b[1;32m   1043\u001b[0m \u001b[0;34m\u001b[0m\u001b[0m\n\u001b[1;32m   1044\u001b[0m     def evaluate(self, x=None, y=None,\n",
      "\u001b[0;32m~/.local/lib/python3.6/site-packages/keras/engine/training_arrays.py\u001b[0m in \u001b[0;36mfit_loop\u001b[0;34m(model, f, ins, out_labels, batch_size, epochs, verbose, callbacks, val_f, val_ins, shuffle, callback_metrics, initial_epoch, steps_per_epoch, validation_steps)\u001b[0m\n\u001b[1;32m    197\u001b[0m                     \u001b[0mins_batch\u001b[0m\u001b[0;34m[\u001b[0m\u001b[0mi\u001b[0m\u001b[0;34m]\u001b[0m \u001b[0;34m=\u001b[0m \u001b[0mins_batch\u001b[0m\u001b[0;34m[\u001b[0m\u001b[0mi\u001b[0m\u001b[0;34m]\u001b[0m\u001b[0;34m.\u001b[0m\u001b[0mtoarray\u001b[0m\u001b[0;34m(\u001b[0m\u001b[0;34m)\u001b[0m\u001b[0;34m\u001b[0m\u001b[0m\n\u001b[1;32m    198\u001b[0m \u001b[0;34m\u001b[0m\u001b[0m\n\u001b[0;32m--> 199\u001b[0;31m                 \u001b[0mouts\u001b[0m \u001b[0;34m=\u001b[0m \u001b[0mf\u001b[0m\u001b[0;34m(\u001b[0m\u001b[0mins_batch\u001b[0m\u001b[0;34m)\u001b[0m\u001b[0;34m\u001b[0m\u001b[0m\n\u001b[0m\u001b[1;32m    200\u001b[0m                 \u001b[0;32mif\u001b[0m \u001b[0;32mnot\u001b[0m \u001b[0misinstance\u001b[0m\u001b[0;34m(\u001b[0m\u001b[0mouts\u001b[0m\u001b[0;34m,\u001b[0m \u001b[0mlist\u001b[0m\u001b[0;34m)\u001b[0m\u001b[0;34m:\u001b[0m\u001b[0;34m\u001b[0m\u001b[0m\n\u001b[1;32m    201\u001b[0m                     \u001b[0mouts\u001b[0m \u001b[0;34m=\u001b[0m \u001b[0;34m[\u001b[0m\u001b[0mouts\u001b[0m\u001b[0;34m]\u001b[0m\u001b[0;34m\u001b[0m\u001b[0m\n",
      "\u001b[0;32m~/.local/lib/python3.6/site-packages/keras/backend/tensorflow_backend.py\u001b[0m in \u001b[0;36m__call__\u001b[0;34m(self, inputs)\u001b[0m\n\u001b[1;32m   2659\u001b[0m                 \u001b[0;32mreturn\u001b[0m \u001b[0mself\u001b[0m\u001b[0;34m.\u001b[0m\u001b[0m_legacy_call\u001b[0m\u001b[0;34m(\u001b[0m\u001b[0minputs\u001b[0m\u001b[0;34m)\u001b[0m\u001b[0;34m\u001b[0m\u001b[0m\n\u001b[1;32m   2660\u001b[0m \u001b[0;34m\u001b[0m\u001b[0m\n\u001b[0;32m-> 2661\u001b[0;31m             \u001b[0;32mreturn\u001b[0m \u001b[0mself\u001b[0m\u001b[0;34m.\u001b[0m\u001b[0m_call\u001b[0m\u001b[0;34m(\u001b[0m\u001b[0minputs\u001b[0m\u001b[0;34m)\u001b[0m\u001b[0;34m\u001b[0m\u001b[0m\n\u001b[0m\u001b[1;32m   2662\u001b[0m         \u001b[0;32melse\u001b[0m\u001b[0;34m:\u001b[0m\u001b[0;34m\u001b[0m\u001b[0m\n\u001b[1;32m   2663\u001b[0m             \u001b[0;32mif\u001b[0m \u001b[0mpy_any\u001b[0m\u001b[0;34m(\u001b[0m\u001b[0mis_tensor\u001b[0m\u001b[0;34m(\u001b[0m\u001b[0mx\u001b[0m\u001b[0;34m)\u001b[0m \u001b[0;32mfor\u001b[0m \u001b[0mx\u001b[0m \u001b[0;32min\u001b[0m \u001b[0minputs\u001b[0m\u001b[0;34m)\u001b[0m\u001b[0;34m:\u001b[0m\u001b[0;34m\u001b[0m\u001b[0m\n",
      "\u001b[0;32m~/.local/lib/python3.6/site-packages/keras/backend/tensorflow_backend.py\u001b[0m in \u001b[0;36m_call\u001b[0;34m(self, inputs)\u001b[0m\n\u001b[1;32m   2629\u001b[0m                                 \u001b[0msymbol_vals\u001b[0m\u001b[0;34m,\u001b[0m\u001b[0;34m\u001b[0m\u001b[0m\n\u001b[1;32m   2630\u001b[0m                                 session)\n\u001b[0;32m-> 2631\u001b[0;31m         \u001b[0mfetched\u001b[0m \u001b[0;34m=\u001b[0m \u001b[0mself\u001b[0m\u001b[0;34m.\u001b[0m\u001b[0m_callable_fn\u001b[0m\u001b[0;34m(\u001b[0m\u001b[0;34m*\u001b[0m\u001b[0marray_vals\u001b[0m\u001b[0;34m)\u001b[0m\u001b[0;34m\u001b[0m\u001b[0m\n\u001b[0m\u001b[1;32m   2632\u001b[0m         \u001b[0;32mreturn\u001b[0m \u001b[0mfetched\u001b[0m\u001b[0;34m[\u001b[0m\u001b[0;34m:\u001b[0m\u001b[0mlen\u001b[0m\u001b[0;34m(\u001b[0m\u001b[0mself\u001b[0m\u001b[0;34m.\u001b[0m\u001b[0moutputs\u001b[0m\u001b[0;34m)\u001b[0m\u001b[0;34m]\u001b[0m\u001b[0;34m\u001b[0m\u001b[0m\n\u001b[1;32m   2633\u001b[0m \u001b[0;34m\u001b[0m\u001b[0m\n",
      "\u001b[0;32m~/.local/lib/python3.6/site-packages/tensorflow/python/client/session.py\u001b[0m in \u001b[0;36m__call__\u001b[0;34m(self, *args)\u001b[0m\n\u001b[1;32m   1449\u001b[0m         \u001b[0;32mif\u001b[0m \u001b[0mself\u001b[0m\u001b[0;34m.\u001b[0m\u001b[0m_session\u001b[0m\u001b[0;34m.\u001b[0m\u001b[0m_created_with_new_api\u001b[0m\u001b[0;34m:\u001b[0m\u001b[0;34m\u001b[0m\u001b[0m\n\u001b[1;32m   1450\u001b[0m           return tf_session.TF_SessionRunCallable(\n\u001b[0;32m-> 1451\u001b[0;31m               self._session._session, self._handle, args, status, None)\n\u001b[0m\u001b[1;32m   1452\u001b[0m         \u001b[0;32melse\u001b[0m\u001b[0;34m:\u001b[0m\u001b[0;34m\u001b[0m\u001b[0m\n\u001b[1;32m   1453\u001b[0m           return tf_session.TF_DeprecatedSessionRunCallable(\n",
      "\u001b[0;31mKeyboardInterrupt\u001b[0m: "
     ]
    }
   ],
   "source": [
    "model.fit(X.drop('label', axis=1).values, np.array(labels_to_binary_vector(X.label.tolist())), epochs=100, batch_size=32, shuffle=True)"
   ]
  },
  {
   "cell_type": "code",
   "execution_count": 90,
   "metadata": {},
   "outputs": [],
   "source": [
    "pred = model.predict(test.drop('label', axis=1))"
   ]
  },
  {
   "cell_type": "code",
   "execution_count": 92,
   "metadata": {},
   "outputs": [
    {
     "data": {
      "text/plain": [
       "(807, 3)"
      ]
     },
     "execution_count": 92,
     "metadata": {},
     "output_type": "execute_result"
    }
   ],
   "source": [
    "pred.shape"
   ]
  },
  {
   "cell_type": "code",
   "execution_count": null,
   "metadata": {},
   "outputs": [],
   "source": [
    "files = os.listdir('./issues/')"
   ]
  },
  {
   "cell_type": "code",
   "execution_count": null,
   "metadata": {},
   "outputs": [],
   "source": [
    "files.sort()"
   ]
  },
  {
   "cell_type": "code",
   "execution_count": null,
   "metadata": {},
   "outputs": [],
   "source": [
    "dfs = []\n",
    "for f in files:\n",
    "    dfs.append(pd.read_json('./issues/' + f))"
   ]
  },
  {
   "cell_type": "code",
   "execution_count": null,
   "metadata": {},
   "outputs": [],
   "source": [
    "issues = pd.concat(dfs)"
   ]
  },
  {
   "cell_type": "code",
   "execution_count": null,
   "metadata": {},
   "outputs": [],
   "source": [
    "issues.to_csv('issues.csv')"
   ]
  },
  {
   "cell_type": "code",
   "execution_count": null,
   "metadata": {
    "scrolled": true
   },
   "outputs": [],
   "source": [
    "issues.loc[:,['title','body','labels']]"
   ]
  },
  {
   "cell_type": "code",
   "execution_count": null,
   "metadata": {},
   "outputs": [],
   "source": [
    "issues.iloc[4,:].labels"
   ]
  },
  {
   "cell_type": "code",
   "execution_count": null,
   "metadata": {},
   "outputs": [],
   "source": [
    "json.loads(issues.iloc[4,:].labels)"
   ]
  },
  {
   "cell_type": "code",
   "execution_count": null,
   "metadata": {},
   "outputs": [],
   "source": [
    "type(eval(issues.iloc[0,:].labels))"
   ]
  },
  {
   "cell_type": "code",
   "execution_count": null,
   "metadata": {},
   "outputs": [],
   "source": [
    "for ind, row in issues.iterrows():\n",
    "    labels = row['labels']\n",
    "    tmp = []\n",
    "    print(labels)\n",
    "    for l in labels:\n",
    "        tmp.append(l['name'])\n",
    "        \n",
    "    new_label = filter_label(tmp)\n",
    "    issues.loc[ind, 'labels'] = new_label"
   ]
  },
  {
   "cell_type": "code",
   "execution_count": null,
   "metadata": {},
   "outputs": [],
   "source": []
  },
  {
   "cell_type": "code",
   "execution_count": 47,
   "metadata": {
    "scrolled": true
   },
   "outputs": [
    {
     "data": {
      "text/plain": [
       "['Need',\n",
       " 'to',\n",
       " 'update',\n",
       " 'the',\n",
       " 'css',\n",
       " 'so',\n",
       " 'that',\n",
       " 'this',\n",
       " 'badge',\n",
       " 'becomes',\n",
       " 'a',\n",
       " 'circle',\n",
       " '(',\n",
       " 'when',\n",
       " 'a',\n",
       " 'single',\n",
       " 'digit',\n",
       " ')',\n",
       " 'instead',\n",
       " 'of',\n",
       " 'an',\n",
       " 'odd',\n",
       " 'shape',\n",
       " ':',\n",
       " '!',\n",
       " '[',\n",
       " 'image',\n",
       " ']',\n",
       " '(',\n",
       " 'https',\n",
       " ':',\n",
       " '//user-images.githubusercontent.com/35271042/43086421-27080894-8e52-11e8-8f99-11f5133b4203.png',\n",
       " ')']"
      ]
     },
     "execution_count": 47,
     "metadata": {},
     "output_type": "execute_result"
    }
   ],
   "source": [
    "nltk.word_tokenize(issues.loc[0].body)"
   ]
  },
  {
   "cell_type": "code",
   "execution_count": 50,
   "metadata": {},
   "outputs": [
    {
     "name": "stdout",
     "output_type": "stream",
     "text": [
      "test\n",
      "test\n",
      "test\n",
      "test\n",
      "test\n",
      "test\n",
      "test\n",
      "test\n"
     ]
    },
    {
     "data": {
      "text/plain": [
       "['Need',\n",
       " 'update',\n",
       " 'css',\n",
       " 'that',\n",
       " 'badge',\n",
       " 'becomes',\n",
       " 'circle',\n",
       " 'when',\n",
       " 'single',\n",
       " 'digit',\n",
       " 'instead',\n",
       " 'an',\n",
       " 'odd',\n",
       " 'shape',\n",
       " '!',\n",
       " 'image',\n",
       " '(',\n",
       " 'https',\n",
       " '//user-images.githubusercontent.com/35271042/43086421-27080894-8e52-11e8-8f99-11f5133b4203.png']"
      ]
     },
     "execution_count": 50,
     "metadata": {},
     "output_type": "execute_result"
    }
   ],
   "source": [
    "string_to_tokens(issues.loc[0].body)"
   ]
  },
  {
   "cell_type": "code",
   "execution_count": 44,
   "metadata": {},
   "outputs": [
    {
     "data": {
      "text/plain": [
       "1"
      ]
     },
     "execution_count": 44,
     "metadata": {},
     "output_type": "execute_result"
    }
   ],
   "source": [
    "len(')')"
   ]
  },
  {
   "cell_type": "code",
   "execution_count": null,
   "metadata": {},
   "outputs": [],
   "source": []
  }
 ],
 "metadata": {
  "kernelspec": {
   "display_name": "Python 3",
   "language": "python",
   "name": "python3"
  },
  "language_info": {
   "codemirror_mode": {
    "name": "ipython",
    "version": 3
   },
   "file_extension": ".py",
   "mimetype": "text/x-python",
   "name": "python",
   "nbconvert_exporter": "python",
   "pygments_lexer": "ipython3",
   "version": "3.6.5"
  }
 },
 "nbformat": 4,
 "nbformat_minor": 2
}
