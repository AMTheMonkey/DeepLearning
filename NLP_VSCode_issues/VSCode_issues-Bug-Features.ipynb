{
 "cells": [
  {
   "cell_type": "markdown",
   "metadata": {},
   "source": [
    "# Résumé"
   ]
  },
  {
   "cell_type": "markdown",
   "metadata": {},
   "source": [
    "L'objectif de ce notebook est de faire du \"Document Classification\", c'est une sous-partie du NLP. Pour cela, nous prenons les données qui sont [ici](https://api.github.com/repos/Microsoft/vscode/issues). Les données peuvent être récupérées soit via l'API [PyGithub](https://github.com/PyGithub/PyGithub), soit directement avec la commande curl. Nous devrons ensuite classer les différentes \"issues\" sous les différents labels (bug, feature-request). Pour finir, nous fournirons une méthode qui prendra en paramètre, un titre et un corps de texte et qui labellisera cette nouvelle entrée."
   ]
  },
  {
   "cell_type": "markdown",
   "metadata": {},
   "source": [
    "Plan\n",
    "========\n",
    "1. Construction du dataset\n",
    "2. Séparation des datasets\n",
    "3. Création du modèle\n",
    "3. Utilisation du classifier"
   ]
  },
  {
   "cell_type": "code",
   "execution_count": 1,
   "metadata": {},
   "outputs": [],
   "source": [
    "#Diférents imports utilisés par la suite\n",
    "import pandas as pd #Gestion des dataframes\n",
    "import nltk # Traitement du langage naturel\n",
    "import numpy as np\n",
    "#Apprentissage\n",
    "from sklearn.pipeline import Pipeline\n",
    "from sklearn.feature_extraction.text import CountVectorizer, TfidfTransformer, TfidfVectorizer\n",
    "from sklearn.linear_model import SGDClassifier\n",
    "from sklearn.metrics import accuracy_score, confusion_matrix\n",
    "from sklearn.model_selection import GridSearchCV\n",
    "from sklearn.utils import shuffle\n",
    "from sklearn.svm import SVC\n",
    "from sklearn.ensemble import RandomForestClassifier\n",
    "from sklearn.naive_bayes import GaussianNB\n",
    "from sklearn.neural_network import MLPClassifier\n",
    "from pprint import pprint\n",
    "from time import time\n",
    "import logging"
   ]
  },
  {
   "cell_type": "code",
   "execution_count": 2,
   "metadata": {},
   "outputs": [],
   "source": [
    "#Constants utilisées par la suite\n",
    "LABEL_FQ = 'feature-request'\n",
    "LABEL_BUG = 'bug'\n",
    "LABEL_OTHER = 'other'\n",
    "LABELS = [LABEL_BUG, LABEL_FQ, LABEL_OTHER]"
   ]
  },
  {
   "cell_type": "markdown",
   "metadata": {},
   "source": [
    "# Construction du dataset"
   ]
  },
  {
   "cell_type": "markdown",
   "metadata": {},
   "source": [
    "Pour cet exercice, on ne prendra que le titre, le corps et le label de l'issue. On va faire 3 classes différentes, 'bug', 'feature-request', 'other'. On considère que chaque input n'a qu'un seul label."
   ]
  },
  {
   "cell_type": "code",
   "execution_count": 3,
   "metadata": {},
   "outputs": [],
   "source": [
    "#Fonction qui permet de redéfinir les autres labels que bug et feature-request à other\n",
    "def filter_label(labels):\n",
    "    \n",
    "    if LABEL_FQ  in labels:\n",
    "        return LABEL_FQ\n",
    "    elif LABEL_BUG in labels:\n",
    "        return LABEL_BUG\n",
    "    \n",
    "    return LABEL_OTHER"
   ]
  },
  {
   "cell_type": "code",
   "execution_count": 4,
   "metadata": {
    "scrolled": true
   },
   "outputs": [
    {
     "data": {
      "text/html": [
       "<div>\n",
       "<style scoped>\n",
       "    .dataframe tbody tr th:only-of-type {\n",
       "        vertical-align: middle;\n",
       "    }\n",
       "\n",
       "    .dataframe tbody tr th {\n",
       "        vertical-align: top;\n",
       "    }\n",
       "\n",
       "    .dataframe thead th {\n",
       "        text-align: right;\n",
       "    }\n",
       "</style>\n",
       "<table border=\"1\" class=\"dataframe\">\n",
       "  <thead>\n",
       "    <tr style=\"text-align: right;\">\n",
       "      <th></th>\n",
       "      <th>title</th>\n",
       "      <th>body</th>\n",
       "      <th>labels</th>\n",
       "    </tr>\n",
       "  </thead>\n",
       "  <tbody>\n",
       "    <tr>\n",
       "      <th>0</th>\n",
       "      <td>Panel badge is an odd shape when a single digit</td>\n",
       "      <td>Need to update the css so that this badge beco...</td>\n",
       "      <td>[]</td>\n",
       "    </tr>\n",
       "    <tr>\n",
       "      <th>1</th>\n",
       "      <td>custom titlebar : fullscreen very top dragging...</td>\n",
       "      <td>- VSCode Version: Insiders 1.26\\r\\n- OS Versio...</td>\n",
       "      <td>[]</td>\n",
       "    </tr>\n",
       "    <tr>\n",
       "      <th>2</th>\n",
       "      <td>Localized descriptions for built-in extensions...</td>\n",
       "      <td>Fixes #54111</td>\n",
       "      <td>[]</td>\n",
       "    </tr>\n",
       "    <tr>\n",
       "      <th>3</th>\n",
       "      <td>editor automatically removing characters from ...</td>\n",
       "      <td>Issue Type: &lt;b&gt;Bug&lt;/b&gt;\\r\\n\\r\\nthe editor is re...</td>\n",
       "      <td>[]</td>\n",
       "    </tr>\n",
       "    <tr>\n",
       "      <th>4</th>\n",
       "      <td>[js] Add auto completion for computed property...</td>\n",
       "      <td>Currently intellisense doesn't work for comput...</td>\n",
       "      <td>[{'id': 291124272, 'node_id': 'MDU6TGFiZWwyOTE...</td>\n",
       "    </tr>\n",
       "  </tbody>\n",
       "</table>\n",
       "</div>"
      ],
      "text/plain": [
       "                                               title  \\\n",
       "0    Panel badge is an odd shape when a single digit   \n",
       "1  custom titlebar : fullscreen very top dragging...   \n",
       "2  Localized descriptions for built-in extensions...   \n",
       "3  editor automatically removing characters from ...   \n",
       "4  [js] Add auto completion for computed property...   \n",
       "\n",
       "                                                body  \\\n",
       "0  Need to update the css so that this badge beco...   \n",
       "1  - VSCode Version: Insiders 1.26\\r\\n- OS Versio...   \n",
       "2                                       Fixes #54111   \n",
       "3  Issue Type: <b>Bug</b>\\r\\n\\r\\nthe editor is re...   \n",
       "4  Currently intellisense doesn't work for comput...   \n",
       "\n",
       "                                              labels  \n",
       "0                                                 []  \n",
       "1                                                 []  \n",
       "2                                                 []  \n",
       "3                                                 []  \n",
       "4  [{'id': 291124272, 'node_id': 'MDU6TGFiZWwyOTE...  "
      ]
     },
     "execution_count": 4,
     "metadata": {},
     "output_type": "execute_result"
    }
   ],
   "source": [
    "issues = pd.read_csv('./issues.csv') #importation des données téléchargées au préalable\n",
    "issues = issues.loc[:,['title','body','labels']] #On conserve seulement titre, body et labels\n",
    "issues.head()"
   ]
  },
  {
   "cell_type": "code",
   "execution_count": 5,
   "metadata": {
    "scrolled": true
   },
   "outputs": [],
   "source": [
    "#Transformation des labels. On ne garde qu'un seul label (bug, feature-request et other)\n",
    "for ind in issues.index:\n",
    "    row = issues.loc[ind]\n",
    "    labels = eval(row['labels'])\n",
    "    tmp = []\n",
    "\n",
    "    if len(labels) > 0: # S'il y a au moins un label, 3 possibilitées d'affectation\n",
    "        for l in labels:\n",
    "            tmp.append(l['name'])\n",
    "\n",
    "        new_label = filter_label(tmp)\n",
    "        issues.loc[ind, 'labels'] = new_label\n",
    "    else:\n",
    "        issues.loc[ind, 'labels'] = LABEL_OTHER #Sinon c'est other"
   ]
  },
  {
   "cell_type": "code",
   "execution_count": 6,
   "metadata": {
    "scrolled": true
   },
   "outputs": [
    {
     "data": {
      "text/html": [
       "<div>\n",
       "<style scoped>\n",
       "    .dataframe tbody tr th:only-of-type {\n",
       "        vertical-align: middle;\n",
       "    }\n",
       "\n",
       "    .dataframe tbody tr th {\n",
       "        vertical-align: top;\n",
       "    }\n",
       "\n",
       "    .dataframe thead th {\n",
       "        text-align: right;\n",
       "    }\n",
       "</style>\n",
       "<table border=\"1\" class=\"dataframe\">\n",
       "  <thead>\n",
       "    <tr style=\"text-align: right;\">\n",
       "      <th></th>\n",
       "      <th>title</th>\n",
       "      <th>body</th>\n",
       "      <th>labels</th>\n",
       "    </tr>\n",
       "  </thead>\n",
       "  <tbody>\n",
       "    <tr>\n",
       "      <th>0</th>\n",
       "      <td>Panel badge is an odd shape when a single digit</td>\n",
       "      <td>Need to update the css so that this badge beco...</td>\n",
       "      <td>other</td>\n",
       "    </tr>\n",
       "    <tr>\n",
       "      <th>1</th>\n",
       "      <td>custom titlebar : fullscreen very top dragging...</td>\n",
       "      <td>- VSCode Version: Insiders 1.26\\r\\n- OS Versio...</td>\n",
       "      <td>other</td>\n",
       "    </tr>\n",
       "    <tr>\n",
       "      <th>2</th>\n",
       "      <td>Localized descriptions for built-in extensions...</td>\n",
       "      <td>Fixes #54111</td>\n",
       "      <td>other</td>\n",
       "    </tr>\n",
       "    <tr>\n",
       "      <th>3</th>\n",
       "      <td>editor automatically removing characters from ...</td>\n",
       "      <td>Issue Type: &lt;b&gt;Bug&lt;/b&gt;\\r\\n\\r\\nthe editor is re...</td>\n",
       "      <td>other</td>\n",
       "    </tr>\n",
       "    <tr>\n",
       "      <th>4</th>\n",
       "      <td>[js] Add auto completion for computed property...</td>\n",
       "      <td>Currently intellisense doesn't work for comput...</td>\n",
       "      <td>other</td>\n",
       "    </tr>\n",
       "  </tbody>\n",
       "</table>\n",
       "</div>"
      ],
      "text/plain": [
       "                                               title  \\\n",
       "0    Panel badge is an odd shape when a single digit   \n",
       "1  custom titlebar : fullscreen very top dragging...   \n",
       "2  Localized descriptions for built-in extensions...   \n",
       "3  editor automatically removing characters from ...   \n",
       "4  [js] Add auto completion for computed property...   \n",
       "\n",
       "                                                body labels  \n",
       "0  Need to update the css so that this badge beco...  other  \n",
       "1  - VSCode Version: Insiders 1.26\\r\\n- OS Versio...  other  \n",
       "2                                       Fixes #54111  other  \n",
       "3  Issue Type: <b>Bug</b>\\r\\n\\r\\nthe editor is re...  other  \n",
       "4  Currently intellisense doesn't work for comput...  other  "
      ]
     },
     "execution_count": 6,
     "metadata": {},
     "output_type": "execute_result"
    }
   ],
   "source": [
    "issues.head()"
   ]
  },
  {
   "cell_type": "code",
   "execution_count": 7,
   "metadata": {},
   "outputs": [
    {
     "name": "stdout",
     "output_type": "stream",
     "text": [
      "feature-request    2833\n",
      "other              1644\n",
      "bug                 904\n",
      "Name: labels, dtype: int64\n",
      "Totale : 5381\n"
     ]
    }
   ],
   "source": [
    "print(issues.labels.value_counts())\n",
    "print('Totale : {}'.format(issues.shape[0]))"
   ]
  },
  {
   "cell_type": "markdown",
   "metadata": {},
   "source": [
    "# Séparation des datasets"
   ]
  },
  {
   "cell_type": "markdown",
   "metadata": {},
   "source": [
    "Dans cette section, nous séparons les données en 2 datasets. Ceci afin de valider le classifieur. Nous allons avoir un dataset pour l'entrainement et un pour le test. On garde 70% de chaque classe pour l'entraînement, et le reste de 30%."
   ]
  },
  {
   "cell_type": "code",
   "execution_count": 8,
   "metadata": {},
   "outputs": [],
   "source": [
    "dfTrain = {}\n",
    "dfTest = {}\n",
    "for l in LABELS:\n",
    "    dfTrain[l] = issues[issues.labels == l].sample(frac=0.7)\n",
    "    dfTest[l] = issues[issues.labels == l].drop(dfTrain[l].index)\n",
    "\n",
    "dfTrain = pd.concat([dfTrain[l] for l in LABELS ], axis=0)\n",
    "dfTest = pd.concat([dfTest[l] for l in LABELS ], axis=0)"
   ]
  },
  {
   "cell_type": "code",
   "execution_count": 9,
   "metadata": {},
   "outputs": [
    {
     "data": {
      "text/html": [
       "<div>\n",
       "<style scoped>\n",
       "    .dataframe tbody tr th:only-of-type {\n",
       "        vertical-align: middle;\n",
       "    }\n",
       "\n",
       "    .dataframe tbody tr th {\n",
       "        vertical-align: top;\n",
       "    }\n",
       "\n",
       "    .dataframe thead th {\n",
       "        text-align: right;\n",
       "    }\n",
       "</style>\n",
       "<table border=\"1\" class=\"dataframe\">\n",
       "  <thead>\n",
       "    <tr style=\"text-align: right;\">\n",
       "      <th></th>\n",
       "      <th>title</th>\n",
       "      <th>body</th>\n",
       "      <th>labels</th>\n",
       "    </tr>\n",
       "  </thead>\n",
       "  <tbody>\n",
       "    <tr>\n",
       "      <th>4865</th>\n",
       "      <td>Source control integration ignores files stage...</td>\n",
       "      <td>- VSCode Version: Code 1.19.3 (7c4205b5c6e52a5...</td>\n",
       "      <td>bug</td>\n",
       "    </tr>\n",
       "    <tr>\n",
       "      <th>3420</th>\n",
       "      <td>Consider using a lighter blue for menu selection</td>\n",
       "      <td>The current blue is VSCode blue which is too s...</td>\n",
       "      <td>bug</td>\n",
       "    </tr>\n",
       "    <tr>\n",
       "      <th>3771</th>\n",
       "      <td>Diff editor: Git actions are enabled when doin...</td>\n",
       "      <td>- VSCode Version: 1.22.2\\r\\n- OS Version: Wind...</td>\n",
       "      <td>bug</td>\n",
       "    </tr>\n",
       "    <tr>\n",
       "      <th>1475</th>\n",
       "      <td>Typescript symbols aren't displayed when using...</td>\n",
       "      <td>- VSCode Version: Code - Insiders 1.11.0-insid...</td>\n",
       "      <td>bug</td>\n",
       "    </tr>\n",
       "    <tr>\n",
       "      <th>4856</th>\n",
       "      <td>searching for \"IntelliSense\" or \"completions\" ...</td>\n",
       "      <td>I had someone ask how to turn off completions ...</td>\n",
       "      <td>bug</td>\n",
       "    </tr>\n",
       "  </tbody>\n",
       "</table>\n",
       "</div>"
      ],
      "text/plain": [
       "                                                  title  \\\n",
       "4865  Source control integration ignores files stage...   \n",
       "3420   Consider using a lighter blue for menu selection   \n",
       "3771  Diff editor: Git actions are enabled when doin...   \n",
       "1475  Typescript symbols aren't displayed when using...   \n",
       "4856  searching for \"IntelliSense\" or \"completions\" ...   \n",
       "\n",
       "                                                   body labels  \n",
       "4865  - VSCode Version: Code 1.19.3 (7c4205b5c6e52a5...    bug  \n",
       "3420  The current blue is VSCode blue which is too s...    bug  \n",
       "3771  - VSCode Version: 1.22.2\\r\\n- OS Version: Wind...    bug  \n",
       "1475  - VSCode Version: Code - Insiders 1.11.0-insid...    bug  \n",
       "4856  I had someone ask how to turn off completions ...    bug  "
      ]
     },
     "execution_count": 9,
     "metadata": {},
     "output_type": "execute_result"
    }
   ],
   "source": [
    "dfTrain.head()"
   ]
  },
  {
   "cell_type": "code",
   "execution_count": 10,
   "metadata": {},
   "outputs": [
    {
     "data": {
      "text/plain": [
       "feature-request    1983\n",
       "other              1151\n",
       "bug                 633\n",
       "Name: labels, dtype: int64"
      ]
     },
     "execution_count": 10,
     "metadata": {},
     "output_type": "execute_result"
    }
   ],
   "source": [
    "dfTrain.labels.value_counts()"
   ]
  },
  {
   "cell_type": "code",
   "execution_count": 11,
   "metadata": {},
   "outputs": [
    {
     "data": {
      "text/html": [
       "<div>\n",
       "<style scoped>\n",
       "    .dataframe tbody tr th:only-of-type {\n",
       "        vertical-align: middle;\n",
       "    }\n",
       "\n",
       "    .dataframe tbody tr th {\n",
       "        vertical-align: top;\n",
       "    }\n",
       "\n",
       "    .dataframe thead th {\n",
       "        text-align: right;\n",
       "    }\n",
       "</style>\n",
       "<table border=\"1\" class=\"dataframe\">\n",
       "  <thead>\n",
       "    <tr style=\"text-align: right;\">\n",
       "      <th></th>\n",
       "      <th>title</th>\n",
       "      <th>body</th>\n",
       "      <th>labels</th>\n",
       "    </tr>\n",
       "  </thead>\n",
       "  <tbody>\n",
       "    <tr>\n",
       "      <th>68</th>\n",
       "      <td>Windows update failed: Access is denied (resou...</td>\n",
       "      <td>\\r\\nJul 14 17:24:09.411 INFO Starting: C:\\Prog...</td>\n",
       "      <td>bug</td>\n",
       "    </tr>\n",
       "    <tr>\n",
       "      <th>81</th>\n",
       "      <td>Toggle Word Wrap doesn't work with the custom ...</td>\n",
       "      <td>Issue Type: &lt;b&gt;Bug&lt;/b&gt;\\r\\n\\r\\n(Using Windows 1...</td>\n",
       "      <td>bug</td>\n",
       "    </tr>\n",
       "    <tr>\n",
       "      <th>85</th>\n",
       "      <td>Toggling sidebar switches away from settings e...</td>\n",
       "      <td>Issue Type: &lt;b&gt;Bug&lt;/b&gt;\\r\\n\\r\\n**Repo**\\r\\n1. O...</td>\n",
       "      <td>bug</td>\n",
       "    </tr>\n",
       "    <tr>\n",
       "      <th>100</th>\n",
       "      <td>Extensions Debug breakpoint don't work</td>\n",
       "      <td>- VSCode Version: Code 1.18.0 (dcee2202709a4f2...</td>\n",
       "      <td>bug</td>\n",
       "    </tr>\n",
       "    <tr>\n",
       "      <th>127</th>\n",
       "      <td>Terminal: can't call `#sendText` with a long text</td>\n",
       "      <td>- VSCode Version: Code 1.18.0\\r\\n- OS Version:...</td>\n",
       "      <td>bug</td>\n",
       "    </tr>\n",
       "  </tbody>\n",
       "</table>\n",
       "</div>"
      ],
      "text/plain": [
       "                                                 title  \\\n",
       "68   Windows update failed: Access is denied (resou...   \n",
       "81   Toggle Word Wrap doesn't work with the custom ...   \n",
       "85   Toggling sidebar switches away from settings e...   \n",
       "100             Extensions Debug breakpoint don't work   \n",
       "127  Terminal: can't call `#sendText` with a long text   \n",
       "\n",
       "                                                  body labels  \n",
       "68   \\r\\nJul 14 17:24:09.411 INFO Starting: C:\\Prog...    bug  \n",
       "81   Issue Type: <b>Bug</b>\\r\\n\\r\\n(Using Windows 1...    bug  \n",
       "85   Issue Type: <b>Bug</b>\\r\\n\\r\\n**Repo**\\r\\n1. O...    bug  \n",
       "100  - VSCode Version: Code 1.18.0 (dcee2202709a4f2...    bug  \n",
       "127  - VSCode Version: Code 1.18.0\\r\\n- OS Version:...    bug  "
      ]
     },
     "execution_count": 11,
     "metadata": {},
     "output_type": "execute_result"
    }
   ],
   "source": [
    "dfTest.head()"
   ]
  },
  {
   "cell_type": "code",
   "execution_count": 12,
   "metadata": {},
   "outputs": [
    {
     "data": {
      "text/plain": [
       "feature-request    850\n",
       "other              493\n",
       "bug                271\n",
       "Name: labels, dtype: int64"
      ]
     },
     "execution_count": 12,
     "metadata": {},
     "output_type": "execute_result"
    }
   ],
   "source": [
    "dfTest.labels.value_counts()"
   ]
  },
  {
   "cell_type": "code",
   "execution_count": 13,
   "metadata": {},
   "outputs": [],
   "source": [
    "dfTrain = dfTrain[dfTrain.labels != LABEL_OTHER]\n",
    "dfTest = dfTest[dfTest.labels != LABEL_OTHER]"
   ]
  },
  {
   "cell_type": "code",
   "execution_count": 14,
   "metadata": {},
   "outputs": [
    {
     "data": {
      "text/plain": [
       "feature-request    1983\n",
       "bug                 633\n",
       "Name: labels, dtype: int64"
      ]
     },
     "execution_count": 14,
     "metadata": {},
     "output_type": "execute_result"
    }
   ],
   "source": [
    "dfTrain.labels.value_counts()"
   ]
  },
  {
   "cell_type": "code",
   "execution_count": 15,
   "metadata": {},
   "outputs": [],
   "source": [
    "#On mélange les données\n",
    "dfTrain = shuffle(dfTrain)\n",
    "dfTest = shuffle(dfTest)"
   ]
  },
  {
   "cell_type": "markdown",
   "metadata": {},
   "source": [
    "On constate un déséquilibre au niveau  du nombre d'éléments par classe. Cela pourra poser des difficultés pour l'apprentissage."
   ]
  },
  {
   "cell_type": "markdown",
   "metadata": {},
   "source": [
    "# Création du modèle"
   ]
  },
  {
   "cell_type": "markdown",
   "metadata": {},
   "source": [
    "Maintenant que nous avons nos datasets, nous allons traiter nos données, afin d'aider notre classifier à trouver du sens. Pour ce faire, nous allons \"stemmatiser\" les différents textes, \"tokanizer\" pour récupérer les différents termes utilisés. Pour finir, notre dataset ressemblera à un Bag of Words (BoW). Concrètement nous aurons une matrice (n exemples x m mots). Les m mots sont tous les mots rencontrés dans le dataset d'entraînement. Les différentes valeurs correspondront au nombre de fois que le mot est utilisé par un exemple."
   ]
  },
  {
   "cell_type": "markdown",
   "metadata": {},
   "source": [
    "On arrange les données pour mélanger le titre avec le contenu"
   ]
  },
  {
   "cell_type": "code",
   "execution_count": 18,
   "metadata": {},
   "outputs": [],
   "source": [
    "corpus = [str(row['title']) + ' ' + str(row['body']) for ind, row in dfTrain.iterrows()]\n",
    "corpusTest = [str(row['title']) + ' ' + str(row['body']) for ind, row in dfTest.iterrows()]"
   ]
  },
  {
   "cell_type": "markdown",
   "metadata": {},
   "source": [
    "CountVectorizer va créer notre Bag of Words, TfidTransfomer va pondérer et donner plus de valeurs aux mots fréquemment utilisés.\n",
    "SGDC (Stochastic Gradient Descent Classifier) est une méthode d'apprentissage."
   ]
  },
  {
   "cell_type": "code",
   "execution_count": 19,
   "metadata": {},
   "outputs": [],
   "source": [
    "tokenizer = nltk.tokenize.TweetTokenizer()\n",
    "pipeline =Pipeline([\n",
    "    ('vect', CountVectorizer(stop_words='english', tokenizer=tokenizer.tokenize)),\n",
    "    ('tfidf', TfidfTransformer()),\n",
    "    ('clf', SGDClassifier(class_weight='balanced')),\n",
    "])"
   ]
  },
  {
   "cell_type": "code",
   "execution_count": 20,
   "metadata": {},
   "outputs": [],
   "source": [
    "parameters = {\n",
    "    'vect__max_df': (0.5, 0.75, 1.0),\n",
    "    'vect__max_features': (None, 5000, 10000, 50000),\n",
    "    'vect__ngram_range': ((1, 1), (1, 2)),  # unigrams or bigrams\n",
    "    'tfidf__use_idf': (True, False),\n",
    "    'tfidf__norm': ('l1', 'l2'),\n",
    "    'clf__alpha': (0.00001, 0.000001),\n",
    "    'clf__penalty': ('l2', 'elasticnet'),\n",
    "    #'clf__n_iter': (10, 50, 80),\n",
    "}"
   ]
  },
  {
   "cell_type": "code",
   "execution_count": null,
   "metadata": {},
   "outputs": [],
   "source": [
    "grid_searchSGD = GridSearchCV(pipeline, parameters, n_jobs=-1, verbose=1)\n",
    "\n",
    "print(\"Performing grid search...\")\n",
    "print(\"pipeline:\", [name for name, _ in pipeline.steps])\n",
    "print(\"parameters:\")\n",
    "pprint(parameters)\n",
    "t0 = time()\n",
    "grid_searchSGD.fit(corpus, dfTrain.labels.values)\n",
    "print(\"done in %0.3fs\" % (time() - t0))\n",
    "print()\n",
    "\n",
    "print(\"Best score: %0.3f\" % grid_searchSGD.best_score_)\n",
    "print(\"Best parameters set:\")\n",
    "best_parameters = grid_searchSGD.best_estimator_.get_params()\n",
    "for param_name in sorted(parameters.keys()):\n",
    "    print(\"\\t%s: %r\" % (param_name, best_parameters[param_name]))"
   ]
  },
  {
   "cell_type": "code",
   "execution_count": 22,
   "metadata": {},
   "outputs": [],
   "source": [
    "clf = grid_searchSGD.best_estimator_"
   ]
  },
  {
   "cell_type": "code",
   "execution_count": 23,
   "metadata": {},
   "outputs": [
    {
     "name": "stdout",
     "output_type": "stream",
     "text": [
      "0.8144513826940232\n",
      "[[131 140]\n",
      " [ 68 782]]\n"
     ]
    }
   ],
   "source": [
    "pred = clf.predict(corpusTest)\n",
    "print(accuracy_score(y_pred=pred, y_true=dfTest.labels.values))\n",
    "print(confusion_matrix(y_pred=pred, y_true=dfTest.labels.values))"
   ]
  },
  {
   "cell_type": "markdown",
   "metadata": {},
   "source": [
    "On a une précision de 0.81%. La matrice de confusion (ou contingence) montre la répartition des prédictions. Si on a 100% de prédictions, on a une belle diagonale. On peut tester notre classifier sur de nouvelles données :"
   ]
  },
  {
   "cell_type": "code",
   "execution_count": 24,
   "metadata": {},
   "outputs": [
    {
     "data": {
      "text/plain": [
       "'bug'"
      ]
     },
     "execution_count": 24,
     "metadata": {},
     "output_type": "execute_result"
    }
   ],
   "source": [
    "clf.predict(['Found a bug, please correct it quicly ! I can\\'t work now'])[0]"
   ]
  },
  {
   "cell_type": "code",
   "execution_count": 25,
   "metadata": {},
   "outputs": [
    {
     "data": {
      "text/plain": [
       "'feature-request'"
      ]
     },
     "execution_count": 25,
     "metadata": {},
     "output_type": "execute_result"
    }
   ],
   "source": [
    "clf.predict(['Need a new feature to improve the software'])[0]"
   ]
  },
  {
   "cell_type": "markdown",
   "metadata": {},
   "source": [
    "Le classifier ne connait que 2 classes : bug et feature-request."
   ]
  },
  {
   "cell_type": "code",
   "execution_count": 26,
   "metadata": {},
   "outputs": [
    {
     "data": {
      "text/plain": [
       "'feature-request'"
      ]
     },
     "execution_count": 26,
     "metadata": {},
     "output_type": "execute_result"
    }
   ],
   "source": [
    "clf.predict(['Brian is in the kitchen'])[0]"
   ]
  },
  {
   "cell_type": "markdown",
   "metadata": {},
   "source": [
    "On rajoute le \"Stemmer\" pour améliorer la précision"
   ]
  },
  {
   "cell_type": "code",
   "execution_count": null,
   "metadata": {},
   "outputs": [],
   "source": [
    "from nltk.stem.snowball import SnowballStemmer\n",
    "stemmer = SnowballStemmer(\"english\", ignore_stopwords=True)\n",
    "class StemmedCountVectorizer(CountVectorizer):\n",
    "    def build_analyzer(self):\n",
    "        analyzer = super(StemmedCountVectorizer, self).build_analyzer()\n",
    "        return lambda doc: ([stemmer.stem(w) for w in analyzer(doc)])\n",
    "stemmed_count_vect = StemmedCountVectorizer(stop_words='english')\n",
    "\n",
    "pipeline =Pipeline([\n",
    "    ('vect', stemmed_count_vect),\n",
    "    ('tfidf', TfidfTransformer()),\n",
    "    ('clf', SGDClassifier(class_weight='balanced')),\n",
    "])\n",
    "\n",
    "grid_searchSGDStem = GridSearchCV(pipeline, parameters, n_jobs=-1, verbose=1)\n",
    "grid_searchSGDStem.fit(corpus, dfTrain.labels.values)"
   ]
  },
  {
   "cell_type": "code",
   "execution_count": 28,
   "metadata": {},
   "outputs": [
    {
     "name": "stdout",
     "output_type": "stream",
     "text": [
      "0.775200713648528\n",
      "[[234  37]\n",
      " [215 635]]\n",
      "bug\n",
      "feature-request\n",
      "bug\n"
     ]
    }
   ],
   "source": [
    "clf = grid_searchSGDStem.best_estimator_\n",
    "pred = clf.predict(corpusTest)\n",
    "print(accuracy_score(y_pred=pred, y_true=dfTest.labels.values))\n",
    "print(confusion_matrix(y_pred=pred, y_true=dfTest.labels.values))\n",
    "print(clf.predict(['Found a bug, please correct it quicly ! It\\'s a bug'])[0])\n",
    "print(clf.predict(['Need a new feature to improve the software'])[0])\n",
    "print(clf.predict(['Brian is in the kitchen'])[0])"
   ]
  },
  {
   "cell_type": "markdown",
   "metadata": {},
   "source": [
    "La précision est moins bonne. Cependant, d'après la matrice de confusion, le concept de bug a été mieux appris."
   ]
  },
  {
   "cell_type": "markdown",
   "metadata": {},
   "source": [
    "# Utilisation du classifier"
   ]
  },
  {
   "cell_type": "markdown",
   "metadata": {},
   "source": [
    "On définit une classe IssueClassifier. Cette classe pourra classer une issue en fonction de son titre et de son contenu. Les classes possibles sont 'Bug' et 'feature-request'"
   ]
  },
  {
   "cell_type": "code",
   "execution_count": 29,
   "metadata": {},
   "outputs": [],
   "source": [
    "class IssueClassifier:\n",
    "    def __init__(self,clf):\n",
    "        self.clf = clf\n",
    "        \n",
    "    def predict_issue(self, title, body):\n",
    "        return self.clf.predict([title + ' ' + body])[0]"
   ]
  },
  {
   "cell_type": "code",
   "execution_count": 30,
   "metadata": {},
   "outputs": [],
   "source": [
    "issueClf = IssueClassifier(clf)"
   ]
  },
  {
   "cell_type": "code",
   "execution_count": 31,
   "metadata": {},
   "outputs": [
    {
     "data": {
      "text/plain": [
       "'bug'"
      ]
     },
     "execution_count": 31,
     "metadata": {},
     "output_type": "execute_result"
    }
   ],
   "source": [
    "issueClf.predict_issue(title = \"Bug\", body = \"Hi, I found a bug ! Could you please correct it quickly ? It's a bug, bug, bug, bug\")"
   ]
  },
  {
   "cell_type": "code",
   "execution_count": 32,
   "metadata": {},
   "outputs": [
    {
     "data": {
      "text/plain": [
       "'bug'"
      ]
     },
     "execution_count": 32,
     "metadata": {},
     "output_type": "execute_result"
    }
   ],
   "source": [
    "issueClf.predict_issue(title = \"A Bug in the matrix\", body = \"Hi, I found a bug ! Steps to reproduce 1 step1 . Could you please correct it quickly ? Regards\")"
   ]
  },
  {
   "cell_type": "code",
   "execution_count": 33,
   "metadata": {},
   "outputs": [
    {
     "data": {
      "text/plain": [
       "'feature-request'"
      ]
     },
     "execution_count": 33,
     "metadata": {},
     "output_type": "execute_result"
    }
   ],
   "source": [
    "issueClf.predict_issue(title = \"Feature\", body = \"Hi, I need a new feature concerning the autocompletion\")"
   ]
  },
  {
   "cell_type": "code",
   "execution_count": 34,
   "metadata": {},
   "outputs": [
    {
     "data": {
      "text/plain": [
       "'feature-request'"
      ]
     },
     "execution_count": 34,
     "metadata": {},
     "output_type": "execute_result"
    }
   ],
   "source": [
    "issueClf.predict_issue(title=\"Hell World !\", body=\"Brian is in the kitchen\")"
   ]
  },
  {
   "cell_type": "markdown",
   "metadata": {},
   "source": [
    "# Conclusion"
   ]
  },
  {
   "cell_type": "markdown",
   "metadata": {},
   "source": [
    "Nous avons désormais un classifier d'issue basé uniquement sur le langage naturel (titre et corps). Le classifier est plutôt simple. Pour l'améliorer, on peut utiliser plus de données (seules les issues ouvertes ont été utilisées). De même, la représentation des données (BoW), n'est pas sans faille. On pourrait aussi utiliser du deep learning (DNN et LSTM)"
   ]
  },
  {
   "cell_type": "code",
   "execution_count": null,
   "metadata": {},
   "outputs": [],
   "source": []
  }
 ],
 "metadata": {
  "kernelspec": {
   "display_name": "Python 3",
   "language": "python",
   "name": "python3"
  },
  "language_info": {
   "codemirror_mode": {
    "name": "ipython",
    "version": 3
   },
   "file_extension": ".py",
   "mimetype": "text/x-python",
   "name": "python",
   "nbconvert_exporter": "python",
   "pygments_lexer": "ipython3",
   "version": "3.6.5"
  }
 },
 "nbformat": 4,
 "nbformat_minor": 2
}
